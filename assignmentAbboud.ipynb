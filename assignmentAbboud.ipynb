{
  "cells": [
    {
      "cell_type": "markdown",
      "id": "e0c7b14a-e5aa-4abc-b48b-b8a9d20dacac",
      "metadata": {
        "id": "e0c7b14a-e5aa-4abc-b48b-b8a9d20dacac"
      },
      "source": [
        "# Assignment: Linear Models\n",
        "## Foundations of Machine Learning\n",
        "## Do Q1 and one other question"
      ]
    },
    {
      "cell_type": "code",
      "source": [
        "! git clone https://github.com/DS3001/linearRegression"
      ],
      "metadata": {
        "id": "Sv8q8r1-vcSI",
        "outputId": "e8567233-0251-4174-bce1-0fae7f53b047",
        "colab": {
          "base_uri": "https://localhost:8080/"
        }
      },
      "id": "Sv8q8r1-vcSI",
      "execution_count": 3,
      "outputs": [
        {
          "output_type": "stream",
          "name": "stdout",
          "text": [
            "Cloning into 'linearRegression'...\n",
            "remote: Enumerating objects: 42, done.\u001b[K\n",
            "remote: Counting objects: 100% (12/12), done.\u001b[K\n",
            "remote: Compressing objects: 100% (10/10), done.\u001b[K\n",
            "remote: Total 42 (delta 6), reused 2 (delta 2), pack-reused 30\u001b[K\n",
            "Receiving objects: 100% (42/42), 2.49 MiB | 8.42 MiB/s, done.\n",
            "Resolving deltas: 100% (8/8), done.\n"
          ]
        }
      ]
    },
    {
      "cell_type": "code",
      "source": [
        "import numpy as np\n",
        "import matplotlib.pyplot as plt\n",
        "import pandas as pd\n",
        "import seaborn as sns"
      ],
      "metadata": {
        "id": "V5nibmYJzLjt"
      },
      "id": "V5nibmYJzLjt",
      "execution_count": 2,
      "outputs": []
    },
    {
      "cell_type": "markdown",
      "id": "25bf83c6-ff44-42d6-9b33-8be1b945860d",
      "metadata": {
        "id": "25bf83c6-ff44-42d6-9b33-8be1b945860d"
      },
      "source": [
        "**Q1.** Load `./data/Q1_clean.csv`. The data include\n",
        "\n",
        "- `Price` per night\n",
        "- `Review Scores Rating`: The average rating for the property\n",
        "- `Neighbourhood `: The bourough of NYC. Note the space, or rename the variable.\n",
        "- `Property Type`: The kind of dwelling\n",
        "- `Room Type`: The kind of space being rented\n",
        "\n",
        "1. Compute the average prices and scores by `Neighbourhood `; which bourough is the most expensive on average? Create a kernel density plot of price and log price, grouping by `Neighbourhood `.\n",
        "2. Regress price on `Neighbourhood ` by creating the appropriate dummy/one-hot-encoded variables, without an intercept in the linear model and using all the data. Compare the coefficients in the regression to the table from part 1. What pattern do you see? What are the coefficients in a regression of a continuous variable on one categorical variable?\n",
        "3. Repeat part 2, but leave an intercept in the linear model. How do you have to handle the creation of the dummies differently? What is the intercept? Interpret the coefficients. How can I get the coefficients in part 2 from these new coefficients?\n",
        "4. Split the sample 80/20 into a training and a test set. Run a regression of `Price` on `Review Scores Rating` and `Neighbourhood `. What is the $R^2$ and RMSE on the test set? What is the coefficient on `Review Scores Rating`? What is the most expensive kind of property you can rent?\n",
        "5. Split the sample 80/20 into a training and a test set. Run a regression of `Price` on `Review Scores Rating` and `Neighbourhood ` and `Property Type`. What is the $R^2$ and RMSE on the test set? What is the coefficient on `Review Scores Rating`? What is the most expensive kind of property you can rent?\n",
        "6. What does the coefficient on `Review Scores Rating` mean if it changes from part 4 to 5? Hint: Think about how multilple linear regression works.\n",
        "7. (Optional) We've included `Neighborhood ` and `Property Type` separately in the model. How do you interact them, so you can have \"A bedroom in Queens\" or \"A townhouse in Manhattan\". Split the sample 80/20 into a training and a test set and run a regression including that kind of \"property type X neighborhood\" dummy, plus `Review Scores Rating`. How does the slope coefficient for `Review Scores Rating`, the $R^2$, and the RMSE change? Do they increase significantly compares to part 5? Are the coefficients in this regression just the sum of the coefficients for `Neighbourhood ` and `Property Type` from 5? What is the most expensive kind of property you can rent?"
      ]
    },
    {
      "cell_type": "code",
      "source": [
        "df = pd.read_csv('/content/linearRegression/data/Q1_clean.csv')\n",
        "df.loc[:,['Price','Neighbourhood '] ].groupby('Neighbourhood ').describe()"
      ],
      "metadata": {
        "id": "CNE7E-RWzNXh",
        "outputId": "42a9a796-03b6-4082-9772-10c9469d07df",
        "colab": {
          "base_uri": "https://localhost:8080/",
          "height": 269
        }
      },
      "id": "CNE7E-RWzNXh",
      "execution_count": null,
      "outputs": [
        {
          "output_type": "execute_result",
          "data": {
            "text/plain": [
              "                  Price                                                      \\\n",
              "                  count        mean         std   min     25%    50%    75%   \n",
              "Neighbourhood                                                                 \n",
              "Bronx             217.0   75.276498   39.755468  10.0   50.00   60.0   90.0   \n",
              "Brooklyn         8487.0  127.747378  106.038466  20.0   75.00  100.0  150.0   \n",
              "Manhattan       11763.0  183.664286  170.434606  25.0  103.00  150.0  214.0   \n",
              "Queens           1590.0   96.857233   61.712648  25.0   60.00   80.0  115.0   \n",
              "Staten Island      96.0  146.166667  508.462029  35.0   54.75   71.0   99.0   \n",
              "\n",
              "                         \n",
              "                    max  \n",
              "Neighbourhood            \n",
              "Bronx             244.0  \n",
              "Brooklyn         4500.0  \n",
              "Manhattan       10000.0  \n",
              "Queens            950.0  \n",
              "Staten Island    5000.0  "
            ],
            "text/html": [
              "\n",
              "  <div id=\"df-4fbab1a6-6e87-4d07-ac00-1f998ececb83\" class=\"colab-df-container\">\n",
              "    <div>\n",
              "<style scoped>\n",
              "    .dataframe tbody tr th:only-of-type {\n",
              "        vertical-align: middle;\n",
              "    }\n",
              "\n",
              "    .dataframe tbody tr th {\n",
              "        vertical-align: top;\n",
              "    }\n",
              "\n",
              "    .dataframe thead tr th {\n",
              "        text-align: left;\n",
              "    }\n",
              "\n",
              "    .dataframe thead tr:last-of-type th {\n",
              "        text-align: right;\n",
              "    }\n",
              "</style>\n",
              "<table border=\"1\" class=\"dataframe\">\n",
              "  <thead>\n",
              "    <tr>\n",
              "      <th></th>\n",
              "      <th colspan=\"8\" halign=\"left\">Price</th>\n",
              "    </tr>\n",
              "    <tr>\n",
              "      <th></th>\n",
              "      <th>count</th>\n",
              "      <th>mean</th>\n",
              "      <th>std</th>\n",
              "      <th>min</th>\n",
              "      <th>25%</th>\n",
              "      <th>50%</th>\n",
              "      <th>75%</th>\n",
              "      <th>max</th>\n",
              "    </tr>\n",
              "    <tr>\n",
              "      <th>Neighbourhood</th>\n",
              "      <th></th>\n",
              "      <th></th>\n",
              "      <th></th>\n",
              "      <th></th>\n",
              "      <th></th>\n",
              "      <th></th>\n",
              "      <th></th>\n",
              "      <th></th>\n",
              "    </tr>\n",
              "  </thead>\n",
              "  <tbody>\n",
              "    <tr>\n",
              "      <th>Bronx</th>\n",
              "      <td>217.0</td>\n",
              "      <td>75.276498</td>\n",
              "      <td>39.755468</td>\n",
              "      <td>10.0</td>\n",
              "      <td>50.00</td>\n",
              "      <td>60.0</td>\n",
              "      <td>90.0</td>\n",
              "      <td>244.0</td>\n",
              "    </tr>\n",
              "    <tr>\n",
              "      <th>Brooklyn</th>\n",
              "      <td>8487.0</td>\n",
              "      <td>127.747378</td>\n",
              "      <td>106.038466</td>\n",
              "      <td>20.0</td>\n",
              "      <td>75.00</td>\n",
              "      <td>100.0</td>\n",
              "      <td>150.0</td>\n",
              "      <td>4500.0</td>\n",
              "    </tr>\n",
              "    <tr>\n",
              "      <th>Manhattan</th>\n",
              "      <td>11763.0</td>\n",
              "      <td>183.664286</td>\n",
              "      <td>170.434606</td>\n",
              "      <td>25.0</td>\n",
              "      <td>103.00</td>\n",
              "      <td>150.0</td>\n",
              "      <td>214.0</td>\n",
              "      <td>10000.0</td>\n",
              "    </tr>\n",
              "    <tr>\n",
              "      <th>Queens</th>\n",
              "      <td>1590.0</td>\n",
              "      <td>96.857233</td>\n",
              "      <td>61.712648</td>\n",
              "      <td>25.0</td>\n",
              "      <td>60.00</td>\n",
              "      <td>80.0</td>\n",
              "      <td>115.0</td>\n",
              "      <td>950.0</td>\n",
              "    </tr>\n",
              "    <tr>\n",
              "      <th>Staten Island</th>\n",
              "      <td>96.0</td>\n",
              "      <td>146.166667</td>\n",
              "      <td>508.462029</td>\n",
              "      <td>35.0</td>\n",
              "      <td>54.75</td>\n",
              "      <td>71.0</td>\n",
              "      <td>99.0</td>\n",
              "      <td>5000.0</td>\n",
              "    </tr>\n",
              "  </tbody>\n",
              "</table>\n",
              "</div>\n",
              "    <div class=\"colab-df-buttons\">\n",
              "\n",
              "  <div class=\"colab-df-container\">\n",
              "    <button class=\"colab-df-convert\" onclick=\"convertToInteractive('df-4fbab1a6-6e87-4d07-ac00-1f998ececb83')\"\n",
              "            title=\"Convert this dataframe to an interactive table.\"\n",
              "            style=\"display:none;\">\n",
              "\n",
              "  <svg xmlns=\"http://www.w3.org/2000/svg\" height=\"24px\" viewBox=\"0 -960 960 960\">\n",
              "    <path d=\"M120-120v-720h720v720H120Zm60-500h600v-160H180v160Zm220 220h160v-160H400v160Zm0 220h160v-160H400v160ZM180-400h160v-160H180v160Zm440 0h160v-160H620v160ZM180-180h160v-160H180v160Zm440 0h160v-160H620v160Z\"/>\n",
              "  </svg>\n",
              "    </button>\n",
              "\n",
              "  <style>\n",
              "    .colab-df-container {\n",
              "      display:flex;\n",
              "      gap: 12px;\n",
              "    }\n",
              "\n",
              "    .colab-df-convert {\n",
              "      background-color: #E8F0FE;\n",
              "      border: none;\n",
              "      border-radius: 50%;\n",
              "      cursor: pointer;\n",
              "      display: none;\n",
              "      fill: #1967D2;\n",
              "      height: 32px;\n",
              "      padding: 0 0 0 0;\n",
              "      width: 32px;\n",
              "    }\n",
              "\n",
              "    .colab-df-convert:hover {\n",
              "      background-color: #E2EBFA;\n",
              "      box-shadow: 0px 1px 2px rgba(60, 64, 67, 0.3), 0px 1px 3px 1px rgba(60, 64, 67, 0.15);\n",
              "      fill: #174EA6;\n",
              "    }\n",
              "\n",
              "    .colab-df-buttons div {\n",
              "      margin-bottom: 4px;\n",
              "    }\n",
              "\n",
              "    [theme=dark] .colab-df-convert {\n",
              "      background-color: #3B4455;\n",
              "      fill: #D2E3FC;\n",
              "    }\n",
              "\n",
              "    [theme=dark] .colab-df-convert:hover {\n",
              "      background-color: #434B5C;\n",
              "      box-shadow: 0px 1px 3px 1px rgba(0, 0, 0, 0.15);\n",
              "      filter: drop-shadow(0px 1px 2px rgba(0, 0, 0, 0.3));\n",
              "      fill: #FFFFFF;\n",
              "    }\n",
              "  </style>\n",
              "\n",
              "    <script>\n",
              "      const buttonEl =\n",
              "        document.querySelector('#df-4fbab1a6-6e87-4d07-ac00-1f998ececb83 button.colab-df-convert');\n",
              "      buttonEl.style.display =\n",
              "        google.colab.kernel.accessAllowed ? 'block' : 'none';\n",
              "\n",
              "      async function convertToInteractive(key) {\n",
              "        const element = document.querySelector('#df-4fbab1a6-6e87-4d07-ac00-1f998ececb83');\n",
              "        const dataTable =\n",
              "          await google.colab.kernel.invokeFunction('convertToInteractive',\n",
              "                                                    [key], {});\n",
              "        if (!dataTable) return;\n",
              "\n",
              "        const docLinkHtml = 'Like what you see? Visit the ' +\n",
              "          '<a target=\"_blank\" href=https://colab.research.google.com/notebooks/data_table.ipynb>data table notebook</a>'\n",
              "          + ' to learn more about interactive tables.';\n",
              "        element.innerHTML = '';\n",
              "        dataTable['output_type'] = 'display_data';\n",
              "        await google.colab.output.renderOutput(dataTable, element);\n",
              "        const docLink = document.createElement('div');\n",
              "        docLink.innerHTML = docLinkHtml;\n",
              "        element.appendChild(docLink);\n",
              "      }\n",
              "    </script>\n",
              "  </div>\n",
              "\n",
              "\n",
              "<div id=\"df-8e9bfb60-e891-40c2-9d2e-b2588676a0a9\">\n",
              "  <button class=\"colab-df-quickchart\" onclick=\"quickchart('df-8e9bfb60-e891-40c2-9d2e-b2588676a0a9')\"\n",
              "            title=\"Suggest charts\"\n",
              "            style=\"display:none;\">\n",
              "\n",
              "<svg xmlns=\"http://www.w3.org/2000/svg\" height=\"24px\"viewBox=\"0 0 24 24\"\n",
              "     width=\"24px\">\n",
              "    <g>\n",
              "        <path d=\"M19 3H5c-1.1 0-2 .9-2 2v14c0 1.1.9 2 2 2h14c1.1 0 2-.9 2-2V5c0-1.1-.9-2-2-2zM9 17H7v-7h2v7zm4 0h-2V7h2v10zm4 0h-2v-4h2v4z\"/>\n",
              "    </g>\n",
              "</svg>\n",
              "  </button>\n",
              "\n",
              "<style>\n",
              "  .colab-df-quickchart {\n",
              "      --bg-color: #E8F0FE;\n",
              "      --fill-color: #1967D2;\n",
              "      --hover-bg-color: #E2EBFA;\n",
              "      --hover-fill-color: #174EA6;\n",
              "      --disabled-fill-color: #AAA;\n",
              "      --disabled-bg-color: #DDD;\n",
              "  }\n",
              "\n",
              "  [theme=dark] .colab-df-quickchart {\n",
              "      --bg-color: #3B4455;\n",
              "      --fill-color: #D2E3FC;\n",
              "      --hover-bg-color: #434B5C;\n",
              "      --hover-fill-color: #FFFFFF;\n",
              "      --disabled-bg-color: #3B4455;\n",
              "      --disabled-fill-color: #666;\n",
              "  }\n",
              "\n",
              "  .colab-df-quickchart {\n",
              "    background-color: var(--bg-color);\n",
              "    border: none;\n",
              "    border-radius: 50%;\n",
              "    cursor: pointer;\n",
              "    display: none;\n",
              "    fill: var(--fill-color);\n",
              "    height: 32px;\n",
              "    padding: 0;\n",
              "    width: 32px;\n",
              "  }\n",
              "\n",
              "  .colab-df-quickchart:hover {\n",
              "    background-color: var(--hover-bg-color);\n",
              "    box-shadow: 0 1px 2px rgba(60, 64, 67, 0.3), 0 1px 3px 1px rgba(60, 64, 67, 0.15);\n",
              "    fill: var(--button-hover-fill-color);\n",
              "  }\n",
              "\n",
              "  .colab-df-quickchart-complete:disabled,\n",
              "  .colab-df-quickchart-complete:disabled:hover {\n",
              "    background-color: var(--disabled-bg-color);\n",
              "    fill: var(--disabled-fill-color);\n",
              "    box-shadow: none;\n",
              "  }\n",
              "\n",
              "  .colab-df-spinner {\n",
              "    border: 2px solid var(--fill-color);\n",
              "    border-color: transparent;\n",
              "    border-bottom-color: var(--fill-color);\n",
              "    animation:\n",
              "      spin 1s steps(1) infinite;\n",
              "  }\n",
              "\n",
              "  @keyframes spin {\n",
              "    0% {\n",
              "      border-color: transparent;\n",
              "      border-bottom-color: var(--fill-color);\n",
              "      border-left-color: var(--fill-color);\n",
              "    }\n",
              "    20% {\n",
              "      border-color: transparent;\n",
              "      border-left-color: var(--fill-color);\n",
              "      border-top-color: var(--fill-color);\n",
              "    }\n",
              "    30% {\n",
              "      border-color: transparent;\n",
              "      border-left-color: var(--fill-color);\n",
              "      border-top-color: var(--fill-color);\n",
              "      border-right-color: var(--fill-color);\n",
              "    }\n",
              "    40% {\n",
              "      border-color: transparent;\n",
              "      border-right-color: var(--fill-color);\n",
              "      border-top-color: var(--fill-color);\n",
              "    }\n",
              "    60% {\n",
              "      border-color: transparent;\n",
              "      border-right-color: var(--fill-color);\n",
              "    }\n",
              "    80% {\n",
              "      border-color: transparent;\n",
              "      border-right-color: var(--fill-color);\n",
              "      border-bottom-color: var(--fill-color);\n",
              "    }\n",
              "    90% {\n",
              "      border-color: transparent;\n",
              "      border-bottom-color: var(--fill-color);\n",
              "    }\n",
              "  }\n",
              "</style>\n",
              "\n",
              "  <script>\n",
              "    async function quickchart(key) {\n",
              "      const quickchartButtonEl =\n",
              "        document.querySelector('#' + key + ' button');\n",
              "      quickchartButtonEl.disabled = true;  // To prevent multiple clicks.\n",
              "      quickchartButtonEl.classList.add('colab-df-spinner');\n",
              "      try {\n",
              "        const charts = await google.colab.kernel.invokeFunction(\n",
              "            'suggestCharts', [key], {});\n",
              "      } catch (error) {\n",
              "        console.error('Error during call to suggestCharts:', error);\n",
              "      }\n",
              "      quickchartButtonEl.classList.remove('colab-df-spinner');\n",
              "      quickchartButtonEl.classList.add('colab-df-quickchart-complete');\n",
              "    }\n",
              "    (() => {\n",
              "      let quickchartButtonEl =\n",
              "        document.querySelector('#df-8e9bfb60-e891-40c2-9d2e-b2588676a0a9 button');\n",
              "      quickchartButtonEl.style.display =\n",
              "        google.colab.kernel.accessAllowed ? 'block' : 'none';\n",
              "    })();\n",
              "  </script>\n",
              "</div>\n",
              "\n",
              "    </div>\n",
              "  </div>\n"
            ],
            "application/vnd.google.colaboratory.intrinsic+json": {
              "type": "dataframe",
              "summary": "{\n  \"name\": \"df\",\n  \"rows\": 5,\n  \"fields\": [\n    {\n      \"column\": [\n        \"Neighbourhood \",\n        \"\"\n      ],\n      \"properties\": {\n        \"dtype\": \"string\",\n        \"num_unique_values\": 5,\n        \"samples\": [\n          \"Brooklyn\",\n          \"Staten Island\",\n          \"Manhattan\"\n        ],\n        \"semantic_type\": \"\",\n        \"description\": \"\"\n      }\n    },\n    {\n      \"column\": [\n        \"Price\",\n        \"count\"\n      ],\n      \"properties\": {\n        \"dtype\": \"number\",\n        \"std\": 5357.953461910621,\n        \"min\": 96.0,\n        \"max\": 11763.0,\n        \"num_unique_values\": 5,\n        \"samples\": [\n          8487.0,\n          96.0,\n          11763.0\n        ],\n        \"semantic_type\": \"\",\n        \"description\": \"\"\n      }\n    },\n    {\n      \"column\": [\n        \"Price\",\n        \"mean\"\n      ],\n      \"properties\": {\n        \"dtype\": \"number\",\n        \"std\": 42.29975083391164,\n        \"min\": 75.27649769585254,\n        \"max\": 183.6642863215166,\n        \"num_unique_values\": 5,\n        \"samples\": [\n          127.74737834334866,\n          146.16666666666666,\n          183.6642863215166\n        ],\n        \"semantic_type\": \"\",\n        \"description\": \"\"\n      }\n    },\n    {\n      \"column\": [\n        \"Price\",\n        \"std\"\n      ],\n      \"properties\": {\n        \"dtype\": \"number\",\n        \"std\": 191.75020308796817,\n        \"min\": 39.75546841830139,\n        \"max\": 508.4620291503774,\n        \"num_unique_values\": 5,\n        \"samples\": [\n          106.038466143408,\n          508.4620291503774,\n          170.43460636657392\n        ],\n        \"semantic_type\": \"\",\n        \"description\": \"\"\n      }\n    },\n    {\n      \"column\": [\n        \"Price\",\n        \"min\"\n      ],\n      \"properties\": {\n        \"dtype\": \"number\",\n        \"std\": 9.082951062292475,\n        \"min\": 10.0,\n        \"max\": 35.0,\n        \"num_unique_values\": 4,\n        \"samples\": [\n          20.0,\n          35.0,\n          10.0\n        ],\n        \"semantic_type\": \"\",\n        \"description\": \"\"\n      }\n    },\n    {\n      \"column\": [\n        \"Price\",\n        \"25%\"\n      ],\n      \"properties\": {\n        \"dtype\": \"number\",\n        \"std\": 21.424577008659938,\n        \"min\": 50.0,\n        \"max\": 103.0,\n        \"num_unique_values\": 5,\n        \"samples\": [\n          75.0,\n          54.75,\n          103.0\n        ],\n        \"semantic_type\": \"\",\n        \"description\": \"\"\n      }\n    },\n    {\n      \"column\": [\n        \"Price\",\n        \"50%\"\n      ],\n      \"properties\": {\n        \"dtype\": \"number\",\n        \"std\": 35.485208185947,\n        \"min\": 60.0,\n        \"max\": 150.0,\n        \"num_unique_values\": 5,\n        \"samples\": [\n          100.0,\n          71.0,\n          150.0\n        ],\n        \"semantic_type\": \"\",\n        \"description\": \"\"\n      }\n    },\n    {\n      \"column\": [\n        \"Price\",\n        \"75%\"\n      ],\n      \"properties\": {\n        \"dtype\": \"number\",\n        \"std\": 50.441054707450355,\n        \"min\": 90.0,\n        \"max\": 214.0,\n        \"num_unique_values\": 5,\n        \"samples\": [\n          150.0,\n          99.0,\n          214.0\n        ],\n        \"semantic_type\": \"\",\n        \"description\": \"\"\n      }\n    },\n    {\n      \"column\": [\n        \"Price\",\n        \"max\"\n      ],\n      \"properties\": {\n        \"dtype\": \"number\",\n        \"std\": 3891.13443612528,\n        \"min\": 244.0,\n        \"max\": 10000.0,\n        \"num_unique_values\": 5,\n        \"samples\": [\n          4500.0,\n          5000.0,\n          10000.0\n        ],\n        \"semantic_type\": \"\",\n        \"description\": \"\"\n      }\n    }\n  ]\n}"
            }
          },
          "metadata": {},
          "execution_count": 6
        }
      ]
    },
    {
      "cell_type": "code",
      "source": [
        "sns.kdeplot(x=df['Price'], hue=df['Neighbourhood '])\n",
        "plt.show()"
      ],
      "metadata": {
        "id": "DXJksRM52zEd",
        "outputId": "c9aee5e9-fc42-44ff-bc10-781881d14cfd",
        "colab": {
          "base_uri": "https://localhost:8080/",
          "height": 449
        }
      },
      "id": "DXJksRM52zEd",
      "execution_count": null,
      "outputs": [
        {
          "output_type": "display_data",
          "data": {
            "text/plain": [
              "<Figure size 640x480 with 1 Axes>"
            ],
            "image/png": "[encoded data removed]"
          },
          "metadata": {}
        }
      ]
    },
    {
      "cell_type": "code",
      "source": [
        "sns.kdeplot(x=np.log(df['Price']), hue=df['Neighbourhood '])\n",
        "plt.show()"
      ],
      "metadata": {
        "id": "8_b3dOOy26XM",
        "outputId": "2a410c64-ebcf-4e7c-a36c-390f16964123",
        "colab": {
          "base_uri": "https://localhost:8080/",
          "height": 449
        }
      },
      "id": "8_b3dOOy26XM",
      "execution_count": null,
      "outputs": [
        {
          "output_type": "display_data",
          "data": {
            "text/plain": [
              "<Figure size 640x480 with 1 Axes>"
            ],
            "image/png": "[encoded data removed]"
          },
          "metadata": {}
        }
      ]
    },
    {
      "cell_type": "code",
      "source": [
        "from sklearn import linear_model\n",
        "x = pd.get_dummies(df['Neighbourhood '], dtype='int')\n",
        "y = df['Price']\n",
        "regression = linear_model.LinearRegression(fit_intercept=False).fit(x,y)\n",
        "\n",
        "result = pd.DataFrame({'Neighbourhood':regression.feature_names_in_, 'Coefficient': regression.coef_})\n",
        "print(result)"
      ],
      "metadata": {
        "id": "Z_rT-7jK22Mk",
        "outputId": "a490225c-70bf-45ed-d604-e829c741a93a",
        "colab": {
          "base_uri": "https://localhost:8080/"
        }
      },
      "id": "Z_rT-7jK22Mk",
      "execution_count": null,
      "outputs": [
        {
          "output_type": "stream",
          "name": "stdout",
          "text": [
            "   Neighbourhood  Coefficient\n",
            "0          Bronx    75.276498\n",
            "1       Brooklyn   127.747378\n",
            "2      Manhattan   183.664286\n",
            "3         Queens    96.857233\n",
            "4  Staten Island   146.166667\n"
          ]
        }
      ]
    },
    {
      "cell_type": "markdown",
      "source": [
        "The coefficeints in the regression are equivalnt to the means of their respective neighbourhood"
      ],
      "metadata": {
        "id": "P5hlUwThRnjP"
      },
      "id": "P5hlUwThRnjP"
    },
    {
      "cell_type": "code",
      "source": [
        "x = pd.get_dummies(df['Neighbourhood '], dtype='int', drop_first= True)\n",
        "regression = linear_model.LinearRegression().fit(x,y)\n",
        "result = pd.DataFrame({'Neighbourhood':regression.feature_names_in_, 'Coefficient': regression.coef_})\n",
        "print(result)"
      ],
      "metadata": {
        "id": "TxZftBtcSw9q",
        "outputId": "bb467057-e2aa-4c9a-9c5e-a1111a0f0183",
        "colab": {
          "base_uri": "https://localhost:8080/"
        }
      },
      "id": "TxZftBtcSw9q",
      "execution_count": null,
      "outputs": [
        {
          "output_type": "stream",
          "name": "stdout",
          "text": [
            "   Neighbourhood  Coefficient\n",
            "0       Brooklyn    52.470881\n",
            "1      Manhattan   108.387789\n",
            "2         Queens    21.580735\n",
            "3  Staten Island    70.890169\n"
          ]
        }
      ]
    },
    {
      "cell_type": "markdown",
      "source": [
        "The intercept is the first observation of neighbourhoods, (Bronx), meaning the rest of the regression is relative to the Bronx coefficent value. To get the coefficeint values from question 2, simply add the Bronx value to the current coefficients."
      ],
      "metadata": {
        "id": "zKg5_bB_S9Fx"
      },
      "id": "zKg5_bB_S9Fx"
    },
    {
      "cell_type": "code",
      "source": [
        "from sklearn.model_selection import train_test_split\n",
        "y = df['Price']\n",
        "x = df.loc[:,['Review Scores Rating', 'Neighbourhood ']]\n",
        "x_train, x_test, y_train, y_test = train_test_split(x,y,test_size=.2, random_state=100)\n",
        "z_train = pd.concat([x_train['Review Scores Rating'],pd.get_dummies(x_train['Neighbourhood '], dtype='int')], axis = 1)\n",
        "z_test = pd.concat([x_test['Review Scores Rating'], pd.get_dummies(x_test['Neighbourhood '], dtype='int')], axis = 1)\n",
        "\n",
        "regression = linear_model.LinearRegression(fit_intercept=False).fit(z_train,y_train)\n",
        "\n",
        "y_hat = regression.predict(z_test)\n",
        "print('Rsq: ', regression.score(z_test,y_test))\n",
        "rmse = np.sqrt( np.mean( (y_test - y_hat)**2 ))\n",
        "print('RMSE: ', rmse)\n",
        "results = pd.DataFrame({'variable':regression.feature_names_in_, 'coefficient': regression.coef_})\n",
        "print(results)"
      ],
      "metadata": {
        "id": "VQZUHVewboUd",
        "outputId": "bb3385c1-3f33-4288-e565-ba7efa416fad",
        "colab": {
          "base_uri": "https://localhost:8080/"
        }
      },
      "id": "VQZUHVewboUd",
      "execution_count": null,
      "outputs": [
        {
          "output_type": "stream",
          "name": "stdout",
          "text": [
            "Rsq:  0.06701086106947296\n",
            "RMSE:  125.01092061382933\n",
            "               variable  coefficient\n",
            "0  Review Scores Rating     1.032257\n",
            "1                 Bronx   -17.261392\n",
            "2              Brooklyn    32.180888\n",
            "3             Manhattan    89.421020\n",
            "4                Queens     4.050208\n",
            "5         Staten Island    61.576393\n"
          ]
        }
      ]
    },
    {
      "cell_type": "code",
      "source": [
        "df['Review Scores Rating'].describe()"
      ],
      "metadata": {
        "id": "IeFmfaQdfpMS",
        "outputId": "58dac16a-8876-496c-d687-c78199575ea7",
        "colab": {
          "base_uri": "https://localhost:8080/"
        }
      },
      "id": "IeFmfaQdfpMS",
      "execution_count": null,
      "outputs": [
        {
          "output_type": "execute_result",
          "data": {
            "text/plain": [
              "count    22153.000000\n",
              "mean        91.993093\n",
              "std          8.850658\n",
              "min         20.000000\n",
              "25%         89.000000\n",
              "50%         94.000000\n",
              "75%        100.000000\n",
              "max        100.000000\n",
              "Name: Review Scores Rating, dtype: float64"
            ]
          },
          "metadata": {},
          "execution_count": 23
        }
      ]
    },
    {
      "cell_type": "markdown",
      "source": [
        "Since the max score is a 100, 100*coefficent(1.03)+max neighbourhood(89.421020)=192.63"
      ],
      "metadata": {
        "id": "HdG8tuqigSjk"
      },
      "id": "HdG8tuqigSjk"
    },
    {
      "cell_type": "code",
      "source": [
        "y = df['Price']\n",
        "x = df.loc[:,['Review Scores Rating', 'Neighbourhood ', 'Room Type']]\n",
        "x_train, x_test, y_train, y_test = train_test_split(x,y,test_size=.2, random_state=100)\n",
        "z_train = pd.concat([x_train['Review Scores Rating'],pd.get_dummies(x_train['Neighbourhood '], dtype='int'), pd.get_dummies(x_train['Room Type'], dtype='int')], axis = 1)\n",
        "z_test = pd.concat([x_test['Review Scores Rating'], pd.get_dummies(x_test['Neighbourhood '], dtype='int'), pd.get_dummies(x_test['Room Type'], dtype='int')], axis = 1)\n",
        "\n",
        "regression = linear_model.LinearRegression(fit_intercept=False).fit(z_train,y_train)\n",
        "\n",
        "y_hat = regression.predict(z_test)\n",
        "print('Rsq: ', regression.score(z_test,y_test))\n",
        "rmse = np.sqrt( np.mean( (y_test - y_hat)**2 ))\n",
        "print('RMSE: ', rmse)\n",
        "results = pd.DataFrame({'variable':regression.feature_names_in_, 'coefficient': regression.coef_})\n",
        "print(results)"
      ],
      "metadata": {
        "id": "ecBNQg_PhXZp",
        "outputId": "6e7c1ca4-fa46-4e44-8030-5f320cc98bfb",
        "colab": {
          "base_uri": "https://localhost:8080/"
        }
      },
      "id": "ecBNQg_PhXZp",
      "execution_count": null,
      "outputs": [
        {
          "output_type": "stream",
          "name": "stdout",
          "text": [
            "Rsq:  0.22035348129282306\n",
            "RMSE:  114.27692123130633\n",
            "               variable  coefficient\n",
            "0  Review Scores Rating     0.626912\n",
            "1                 Bronx   -13.022765\n",
            "2              Brooklyn    10.378456\n",
            "3             Manhattan    53.693304\n",
            "4                Queens    -6.833330\n",
            "5         Staten Island    50.003022\n",
            "6       Entire home/apt   110.617820\n",
            "7          Private room     3.101341\n",
            "8           Shared room   -19.500474\n"
          ]
        }
      ]
    },
    {
      "cell_type": "markdown",
      "source": [
        "(Max score )* (score_coe) + (home)+(Manhattan) = 100*.0627+ 110.6+53.7= 171"
      ],
      "metadata": {
        "id": "v8flW9Yih79i"
      },
      "id": "v8flW9Yih79i"
    },
    {
      "cell_type": "markdown",
      "source": [
        "6) The coefficient of Review Scores Rating decreases from 1.032257 to 0.626912 as the room type is now accounted for. In Q4, review scores was forced to compensate for the effects of room type, since it was an isolated variable in the regression. Now, with more variables to handle their own effect on price, review scores is less influential."
      ],
      "metadata": {
        "id": "0mm95i5Xj74l"
      },
      "id": "0mm95i5Xj74l"
    },
    {
      "cell_type": "markdown",
      "id": "95f22300-0180-4ed2-be8f-ed56cf4cd36b",
      "metadata": {
        "id": "95f22300-0180-4ed2-be8f-ed56cf4cd36b"
      },
      "source": [
        "**Q2.** This question is a case study for linear models. The data are about car prices. In particular, they include:\n",
        "\n",
        "  - `Price`, `Color`, `Seating_Capacity`\n",
        "  - `Body_Type`: crossover, hatchback, muv, sedan, suv\n",
        "  - `Make`, `Make_Year`: The brand of car and year produced\n",
        "  - `Mileage_Run`: The number of miles on the odometer\n",
        "  - `Fuel_Type`: Diesel or gasoline/petrol\n",
        "  - `Transmission`, `Transmission_Type`:  speeds and automatic/manual\n",
        "\n",
        "  1. Load `cars_hw.csv`. These data were really dirty, and I've already cleaned them a significant amount in terms of missing values and other issues, but some issues remain (e.g. outliers, badly scaled variables that require a log or arcsinh transformation). Clean the data however you think is most appropriate.\n",
        "  2. Summarize the `Price` variable and create a kernel density plot. Use `.groupby()` and `.describe()` to summarize prices by brand (`Make`). Make a grouped kernel density plot by `Make`. Which car brands are the most expensive? What do prices look like in general?\n",
        "  3. Split the data into an 80% training set and a 20% testing set.\n",
        "  4. Make a model where you regress price on the numeric variables alone; what is the $R^2$ and `RMSE` on the training set and test set? Make a second model where, for the categorical variables, you regress price on a model comprised of one-hot encoded regressors/features alone (you can use `pd.get_dummies()`; be careful of the dummy variable trap); what is the $R^2$ and `RMSE` on the test set? Which model performs better on the test set? Make a third model that combines all the regressors from the previous two; what is the $R^2$ and `RMSE` on the test set? Does the joint model perform better or worse, and by home much?\n",
        "  5. Use the `PolynomialFeatures` function from `sklearn` to expand the set of numerical variables you're using in the regression. As you increase the degree of the expansion, how do the $R^2$ and `RMSE` change? At what point does $R^2$ go negative on the test set? For your best model with expanded features, what is the $R^2$ and `RMSE`? How does it compare to your best model from part 4?\n",
        "  6. For your best model so far, determine the predicted values for the test data and plot them against the true values. Do the predicted values and true values roughly line up along the diagonal, or not? Compute the residuals/errors for the test data and create a kernel density plot. Do the residuals look roughly bell-shaped around zero? Evaluate the strengths and weaknesses of your model."
      ]
    },
    {
      "cell_type": "code",
      "source": [
        "df = pd.read_csv(\"/content/linearRegression/data/cars_hw.csv\")\n",
        "df.head()\n"
      ],
      "metadata": {
        "id": "nEaAn1SP51P3",
        "outputId": "67fa04c4-a39b-4bd3-bd4f-62f04613eb84",
        "colab": {
          "base_uri": "https://localhost:8080/",
          "height": 243
        }
      },
      "id": "nEaAn1SP51P3",
      "execution_count": 13,
      "outputs": [
        {
          "output_type": "execute_result",
          "data": {
            "text/plain": [
              "   Unnamed: 0        Make  Make_Year   Color  Body_Type  Mileage_Run  \\\n",
              "0           1  Volkswagen       2017  silver      sedan        44611   \n",
              "1           2     Hyundai       2016     red  crossover        20305   \n",
              "2           3       Honda       2019   white        suv        29540   \n",
              "3           4     Renault       2017  bronze  hatchback        35680   \n",
              "4           5     Hyundai       2017  orange  hatchback        25126   \n",
              "\n",
              "  No_of_Owners  Seating_Capacity Fuel_Type Transmission Transmission_Type  \\\n",
              "0          1st                 5    diesel      7-Speed         Automatic   \n",
              "1          1st                 5    petrol      5-Speed            Manual   \n",
              "2          2nd                 5    petrol      5-Speed            Manual   \n",
              "3          1st                 5    petrol      5-Speed            Manual   \n",
              "4          1st                 5    petrol      5-Speed            Manual   \n",
              "\n",
              "    Price  \n",
              "0  657000  \n",
              "1  682000  \n",
              "2  793000  \n",
              "3  414000  \n",
              "4  515000  "
            ],
            "text/html": [
              "\n",
              "  <div id=\"df-fe34ed2e-13ca-42ba-9db6-edf78c662452\" class=\"colab-df-container\">\n",
              "    <div>\n",
              "<style scoped>\n",
              "    .dataframe tbody tr th:only-of-type {\n",
              "        vertical-align: middle;\n",
              "    }\n",
              "\n",
              "    .dataframe tbody tr th {\n",
              "        vertical-align: top;\n",
              "    }\n",
              "\n",
              "    .dataframe thead th {\n",
              "        text-align: right;\n",
              "    }\n",
              "</style>\n",
              "<table border=\"1\" class=\"dataframe\">\n",
              "  <thead>\n",
              "    <tr style=\"text-align: right;\">\n",
              "      <th></th>\n",
              "      <th>Unnamed: 0</th>\n",
              "      <th>Make</th>\n",
              "      <th>Make_Year</th>\n",
              "      <th>Color</th>\n",
              "      <th>Body_Type</th>\n",
              "      <th>Mileage_Run</th>\n",
              "      <th>No_of_Owners</th>\n",
              "      <th>Seating_Capacity</th>\n",
              "      <th>Fuel_Type</th>\n",
              "      <th>Transmission</th>\n",
              "      <th>Transmission_Type</th>\n",
              "      <th>Price</th>\n",
              "    </tr>\n",
              "  </thead>\n",
              "  <tbody>\n",
              "    <tr>\n",
              "      <th>0</th>\n",
              "      <td>1</td>\n",
              "      <td>Volkswagen</td>\n",
              "      <td>2017</td>\n",
              "      <td>silver</td>\n",
              "      <td>sedan</td>\n",
              "      <td>44611</td>\n",
              "      <td>1st</td>\n",
              "      <td>5</td>\n",
              "      <td>diesel</td>\n",
              "      <td>7-Speed</td>\n",
              "      <td>Automatic</td>\n",
              "      <td>657000</td>\n",
              "    </tr>\n",
              "    <tr>\n",
              "      <th>1</th>\n",
              "      <td>2</td>\n",
              "      <td>Hyundai</td>\n",
              "      <td>2016</td>\n",
              "      <td>red</td>\n",
              "      <td>crossover</td>\n",
              "      <td>20305</td>\n",
              "      <td>1st</td>\n",
              "      <td>5</td>\n",
              "      <td>petrol</td>\n",
              "      <td>5-Speed</td>\n",
              "      <td>Manual</td>\n",
              "      <td>682000</td>\n",
              "    </tr>\n",
              "    <tr>\n",
              "      <th>2</th>\n",
              "      <td>3</td>\n",
              "      <td>Honda</td>\n",
              "      <td>2019</td>\n",
              "      <td>white</td>\n",
              "      <td>suv</td>\n",
              "      <td>29540</td>\n",
              "      <td>2nd</td>\n",
              "      <td>5</td>\n",
              "      <td>petrol</td>\n",
              "      <td>5-Speed</td>\n",
              "      <td>Manual</td>\n",
              "      <td>793000</td>\n",
              "    </tr>\n",
              "    <tr>\n",
              "      <th>3</th>\n",
              "      <td>4</td>\n",
              "      <td>Renault</td>\n",
              "      <td>2017</td>\n",
              "      <td>bronze</td>\n",
              "      <td>hatchback</td>\n",
              "      <td>35680</td>\n",
              "      <td>1st</td>\n",
              "      <td>5</td>\n",
              "      <td>petrol</td>\n",
              "      <td>5-Speed</td>\n",
              "      <td>Manual</td>\n",
              "      <td>414000</td>\n",
              "    </tr>\n",
              "    <tr>\n",
              "      <th>4</th>\n",
              "      <td>5</td>\n",
              "      <td>Hyundai</td>\n",
              "      <td>2017</td>\n",
              "      <td>orange</td>\n",
              "      <td>hatchback</td>\n",
              "      <td>25126</td>\n",
              "      <td>1st</td>\n",
              "      <td>5</td>\n",
              "      <td>petrol</td>\n",
              "      <td>5-Speed</td>\n",
              "      <td>Manual</td>\n",
              "      <td>515000</td>\n",
              "    </tr>\n",
              "  </tbody>\n",
              "</table>\n",
              "</div>\n",
              "    <div class=\"colab-df-buttons\">\n",
              "\n",
              "  <div class=\"colab-df-container\">\n",
              "    <button class=\"colab-df-convert\" onclick=\"convertToInteractive('df-fe34ed2e-13ca-42ba-9db6-edf78c662452')\"\n",
              "            title=\"Convert this dataframe to an interactive table.\"\n",
              "            style=\"display:none;\">\n",
              "\n",
              "  <svg xmlns=\"http://www.w3.org/2000/svg\" height=\"24px\" viewBox=\"0 -960 960 960\">\n",
              "    <path d=\"M120-120v-720h720v720H120Zm60-500h600v-160H180v160Zm220 220h160v-160H400v160Zm0 220h160v-160H400v160ZM180-400h160v-160H180v160Zm440 0h160v-160H620v160ZM180-180h160v-160H180v160Zm440 0h160v-160H620v160Z\"/>\n",
              "  </svg>\n",
              "    </button>\n",
              "\n",
              "  <style>\n",
              "    .colab-df-container {\n",
              "      display:flex;\n",
              "      gap: 12px;\n",
              "    }\n",
              "\n",
              "    .colab-df-convert {\n",
              "      background-color: #E8F0FE;\n",
              "      border: none;\n",
              "      border-radius: 50%;\n",
              "      cursor: pointer;\n",
              "      display: none;\n",
              "      fill: #1967D2;\n",
              "      height: 32px;\n",
              "      padding: 0 0 0 0;\n",
              "      width: 32px;\n",
              "    }\n",
              "\n",
              "    .colab-df-convert:hover {\n",
              "      background-color: #E2EBFA;\n",
              "      box-shadow: 0px 1px 2px rgba(60, 64, 67, 0.3), 0px 1px 3px 1px rgba(60, 64, 67, 0.15);\n",
              "      fill: #174EA6;\n",
              "    }\n",
              "\n",
              "    .colab-df-buttons div {\n",
              "      margin-bottom: 4px;\n",
              "    }\n",
              "\n",
              "    [theme=dark] .colab-df-convert {\n",
              "      background-color: #3B4455;\n",
              "      fill: #D2E3FC;\n",
              "    }\n",
              "\n",
              "    [theme=dark] .colab-df-convert:hover {\n",
              "      background-color: #434B5C;\n",
              "      box-shadow: 0px 1px 3px 1px rgba(0, 0, 0, 0.15);\n",
              "      filter: drop-shadow(0px 1px 2px rgba(0, 0, 0, 0.3));\n",
              "      fill: #FFFFFF;\n",
              "    }\n",
              "  </style>\n",
              "\n",
              "    <script>\n",
              "      const buttonEl =\n",
              "        document.querySelector('#df-fe34ed2e-13ca-42ba-9db6-edf78c662452 button.colab-df-convert');\n",
              "      buttonEl.style.display =\n",
              "        google.colab.kernel.accessAllowed ? 'block' : 'none';\n",
              "\n",
              "      async function convertToInteractive(key) {\n",
              "        const element = document.querySelector('#df-fe34ed2e-13ca-42ba-9db6-edf78c662452');\n",
              "        const dataTable =\n",
              "          await google.colab.kernel.invokeFunction('convertToInteractive',\n",
              "                                                    [key], {});\n",
              "        if (!dataTable) return;\n",
              "\n",
              "        const docLinkHtml = 'Like what you see? Visit the ' +\n",
              "          '<a target=\"_blank\" href=https://colab.research.google.com/notebooks/data_table.ipynb>data table notebook</a>'\n",
              "          + ' to learn more about interactive tables.';\n",
              "        element.innerHTML = '';\n",
              "        dataTable['output_type'] = 'display_data';\n",
              "        await google.colab.output.renderOutput(dataTable, element);\n",
              "        const docLink = document.createElement('div');\n",
              "        docLink.innerHTML = docLinkHtml;\n",
              "        element.appendChild(docLink);\n",
              "      }\n",
              "    </script>\n",
              "  </div>\n",
              "\n",
              "\n",
              "<div id=\"df-098e03b2-faff-4c7e-865d-4ac097ea3dfb\">\n",
              "  <button class=\"colab-df-quickchart\" onclick=\"quickchart('df-098e03b2-faff-4c7e-865d-4ac097ea3dfb')\"\n",
              "            title=\"Suggest charts\"\n",
              "            style=\"display:none;\">\n",
              "\n",
              "<svg xmlns=\"http://www.w3.org/2000/svg\" height=\"24px\"viewBox=\"0 0 24 24\"\n",
              "     width=\"24px\">\n",
              "    <g>\n",
              "        <path d=\"M19 3H5c-1.1 0-2 .9-2 2v14c0 1.1.9 2 2 2h14c1.1 0 2-.9 2-2V5c0-1.1-.9-2-2-2zM9 17H7v-7h2v7zm4 0h-2V7h2v10zm4 0h-2v-4h2v4z\"/>\n",
              "    </g>\n",
              "</svg>\n",
              "  </button>\n",
              "\n",
              "<style>\n",
              "  .colab-df-quickchart {\n",
              "      --bg-color: #E8F0FE;\n",
              "      --fill-color: #1967D2;\n",
              "      --hover-bg-color: #E2EBFA;\n",
              "      --hover-fill-color: #174EA6;\n",
              "      --disabled-fill-color: #AAA;\n",
              "      --disabled-bg-color: #DDD;\n",
              "  }\n",
              "\n",
              "  [theme=dark] .colab-df-quickchart {\n",
              "      --bg-color: #3B4455;\n",
              "      --fill-color: #D2E3FC;\n",
              "      --hover-bg-color: #434B5C;\n",
              "      --hover-fill-color: #FFFFFF;\n",
              "      --disabled-bg-color: #3B4455;\n",
              "      --disabled-fill-color: #666;\n",
              "  }\n",
              "\n",
              "  .colab-df-quickchart {\n",
              "    background-color: var(--bg-color);\n",
              "    border: none;\n",
              "    border-radius: 50%;\n",
              "    cursor: pointer;\n",
              "    display: none;\n",
              "    fill: var(--fill-color);\n",
              "    height: 32px;\n",
              "    padding: 0;\n",
              "    width: 32px;\n",
              "  }\n",
              "\n",
              "  .colab-df-quickchart:hover {\n",
              "    background-color: var(--hover-bg-color);\n",
              "    box-shadow: 0 1px 2px rgba(60, 64, 67, 0.3), 0 1px 3px 1px rgba(60, 64, 67, 0.15);\n",
              "    fill: var(--button-hover-fill-color);\n",
              "  }\n",
              "\n",
              "  .colab-df-quickchart-complete:disabled,\n",
              "  .colab-df-quickchart-complete:disabled:hover {\n",
              "    background-color: var(--disabled-bg-color);\n",
              "    fill: var(--disabled-fill-color);\n",
              "    box-shadow: none;\n",
              "  }\n",
              "\n",
              "  .colab-df-spinner {\n",
              "    border: 2px solid var(--fill-color);\n",
              "    border-color: transparent;\n",
              "    border-bottom-color: var(--fill-color);\n",
              "    animation:\n",
              "      spin 1s steps(1) infinite;\n",
              "  }\n",
              "\n",
              "  @keyframes spin {\n",
              "    0% {\n",
              "      border-color: transparent;\n",
              "      border-bottom-color: var(--fill-color);\n",
              "      border-left-color: var(--fill-color);\n",
              "    }\n",
              "    20% {\n",
              "      border-color: transparent;\n",
              "      border-left-color: var(--fill-color);\n",
              "      border-top-color: var(--fill-color);\n",
              "    }\n",
              "    30% {\n",
              "      border-color: transparent;\n",
              "      border-left-color: var(--fill-color);\n",
              "      border-top-color: var(--fill-color);\n",
              "      border-right-color: var(--fill-color);\n",
              "    }\n",
              "    40% {\n",
              "      border-color: transparent;\n",
              "      border-right-color: var(--fill-color);\n",
              "      border-top-color: var(--fill-color);\n",
              "    }\n",
              "    60% {\n",
              "      border-color: transparent;\n",
              "      border-right-color: var(--fill-color);\n",
              "    }\n",
              "    80% {\n",
              "      border-color: transparent;\n",
              "      border-right-color: var(--fill-color);\n",
              "      border-bottom-color: var(--fill-color);\n",
              "    }\n",
              "    90% {\n",
              "      border-color: transparent;\n",
              "      border-bottom-color: var(--fill-color);\n",
              "    }\n",
              "  }\n",
              "</style>\n",
              "\n",
              "  <script>\n",
              "    async function quickchart(key) {\n",
              "      const quickchartButtonEl =\n",
              "        document.querySelector('#' + key + ' button');\n",
              "      quickchartButtonEl.disabled = true;  // To prevent multiple clicks.\n",
              "      quickchartButtonEl.classList.add('colab-df-spinner');\n",
              "      try {\n",
              "        const charts = await google.colab.kernel.invokeFunction(\n",
              "            'suggestCharts', [key], {});\n",
              "      } catch (error) {\n",
              "        console.error('Error during call to suggestCharts:', error);\n",
              "      }\n",
              "      quickchartButtonEl.classList.remove('colab-df-spinner');\n",
              "      quickchartButtonEl.classList.add('colab-df-quickchart-complete');\n",
              "    }\n",
              "    (() => {\n",
              "      let quickchartButtonEl =\n",
              "        document.querySelector('#df-098e03b2-faff-4c7e-865d-4ac097ea3dfb button');\n",
              "      quickchartButtonEl.style.display =\n",
              "        google.colab.kernel.accessAllowed ? 'block' : 'none';\n",
              "    })();\n",
              "  </script>\n",
              "</div>\n",
              "\n",
              "    </div>\n",
              "  </div>\n"
            ],
            "application/vnd.google.colaboratory.intrinsic+json": {
              "type": "dataframe",
              "variable_name": "df",
              "summary": "{\n  \"name\": \"df\",\n  \"rows\": 976,\n  \"fields\": [\n    {\n      \"column\": \"Unnamed: 0\",\n      \"properties\": {\n        \"dtype\": \"number\",\n        \"std\": 281,\n        \"min\": 1,\n        \"max\": 976,\n        \"num_unique_values\": 976,\n        \"samples\": [\n          200,\n          542,\n          175\n        ],\n        \"semantic_type\": \"\",\n        \"description\": \"\"\n      }\n    },\n    {\n      \"column\": \"Make\",\n      \"properties\": {\n        \"dtype\": \"category\",\n        \"num_unique_values\": 16,\n        \"samples\": [\n          \"Volkswagen\",\n          \"Hyundai\",\n          \"Chevrolet\"\n        ],\n        \"semantic_type\": \"\",\n        \"description\": \"\"\n      }\n    },\n    {\n      \"column\": \"Make_Year\",\n      \"properties\": {\n        \"dtype\": \"number\",\n        \"std\": 2,\n        \"min\": 2011,\n        \"max\": 2022,\n        \"num_unique_values\": 12,\n        \"samples\": [\n          2011,\n          2014,\n          2017\n        ],\n        \"semantic_type\": \"\",\n        \"description\": \"\"\n      }\n    },\n    {\n      \"column\": \"Color\",\n      \"properties\": {\n        \"dtype\": \"category\",\n        \"num_unique_values\": 15,\n        \"samples\": [\n          \"brown\",\n          \"black\",\n          \"silver\"\n        ],\n        \"semantic_type\": \"\",\n        \"description\": \"\"\n      }\n    },\n    {\n      \"column\": \"Body_Type\",\n      \"properties\": {\n        \"dtype\": \"category\",\n        \"num_unique_values\": 5,\n        \"samples\": [\n          \"crossover\",\n          \"muv\",\n          \"suv\"\n        ],\n        \"semantic_type\": \"\",\n        \"description\": \"\"\n      }\n    },\n    {\n      \"column\": \"Mileage_Run\",\n      \"properties\": {\n        \"dtype\": \"number\",\n        \"std\": 24390,\n        \"min\": 1117,\n        \"max\": 99495,\n        \"num_unique_values\": 878,\n        \"samples\": [\n          16240,\n          23724,\n          43273\n        ],\n        \"semantic_type\": \"\",\n        \"description\": \"\"\n      }\n    },\n    {\n      \"column\": \"No_of_Owners\",\n      \"properties\": {\n        \"dtype\": \"category\",\n        \"num_unique_values\": 3,\n        \"samples\": [\n          \"1st\",\n          \"2nd\",\n          \"3rd\"\n        ],\n        \"semantic_type\": \"\",\n        \"description\": \"\"\n      }\n    },\n    {\n      \"column\": \"Seating_Capacity\",\n      \"properties\": {\n        \"dtype\": \"number\",\n        \"std\": 0,\n        \"min\": 4,\n        \"max\": 8,\n        \"num_unique_values\": 5,\n        \"samples\": [\n          7,\n          4,\n          8\n        ],\n        \"semantic_type\": \"\",\n        \"description\": \"\"\n      }\n    },\n    {\n      \"column\": \"Fuel_Type\",\n      \"properties\": {\n        \"dtype\": \"category\",\n        \"num_unique_values\": 3,\n        \"samples\": [\n          \"diesel\",\n          \"petrol\",\n          \"petrol+cng\"\n        ],\n        \"semantic_type\": \"\",\n        \"description\": \"\"\n      }\n    },\n    {\n      \"column\": \"Transmission\",\n      \"properties\": {\n        \"dtype\": \"category\",\n        \"num_unique_values\": 5,\n        \"samples\": [\n          \"5-Speed\",\n          \"4-Speed\",\n          \"6-Speed\"\n        ],\n        \"semantic_type\": \"\",\n        \"description\": \"\"\n      }\n    },\n    {\n      \"column\": \"Transmission_Type\",\n      \"properties\": {\n        \"dtype\": \"category\",\n        \"num_unique_values\": 2,\n        \"samples\": [\n          \"Manual\",\n          \"Automatic\"\n        ],\n        \"semantic_type\": \"\",\n        \"description\": \"\"\n      }\n    },\n    {\n      \"column\": \"Price\",\n      \"properties\": {\n        \"dtype\": \"number\",\n        \"std\": 367323,\n        \"min\": 188000,\n        \"max\": 2941000,\n        \"num_unique_values\": 585,\n        \"samples\": [\n          423000,\n          290000\n        ],\n        \"semantic_type\": \"\",\n        \"description\": \"\"\n      }\n    }\n  ]\n}"
            }
          },
          "metadata": {},
          "execution_count": 13
        }
      ]
    },
    {
      "cell_type": "code",
      "source": [
        "sns.boxplot(df)"
      ],
      "metadata": {
        "id": "jMBP2HZe64x3",
        "outputId": "abed8f01-c7fd-4cbe-cffe-b3d628fc96e9",
        "colab": {
          "base_uri": "https://localhost:8080/",
          "height": 462
        }
      },
      "id": "jMBP2HZe64x3",
      "execution_count": 14,
      "outputs": [
        {
          "output_type": "execute_result",
          "data": {
            "text/plain": [
              "<Axes: >"
            ]
          },
          "metadata": {},
          "execution_count": 14
        },
        {
          "output_type": "display_data",
          "data": {
            "text/plain": [
              "<Figure size 640x480 with 1 Axes>"
            ],
            "image/png": "[encoded data removed]"
          },
          "metadata": {}
        }
      ]
    },
    {
      "cell_type": "code",
      "source": [
        "q = df[\"Price\"].quantile(0.99)\n",
        "df = df[df[\"Price\"] < q]\n",
        "sns.boxplot(df)"
      ],
      "metadata": {
        "id": "4U1vz53n8wTO",
        "outputId": "7d6548d2-6dd6-48bc-b175-0870d33aa81f",
        "colab": {
          "base_uri": "https://localhost:8080/",
          "height": 462
        }
      },
      "id": "4U1vz53n8wTO",
      "execution_count": 15,
      "outputs": [
        {
          "output_type": "execute_result",
          "data": {
            "text/plain": [
              "<Axes: >"
            ]
          },
          "metadata": {},
          "execution_count": 15
        },
        {
          "output_type": "display_data",
          "data": {
            "text/plain": [
              "<Figure size 640x480 with 1 Axes>"
            ],
            "image/png": "[encoded data removed]"
          },
          "metadata": {}
        }
      ]
    },
    {
      "cell_type": "code",
      "source": [
        "df['mileage_ihs'] = np.arcsinh(df['Mileage_Run'])\n",
        "df['price_ihs'] = np.arcsinh(df['Price'])\n",
        "df['age'] = max(df['Make_Year'])-df['Make_Year']\n",
        "df = df.drop(['Mileage_Run','Make_Year','Unnamed: 0', 'Price'],axis=1)\n",
        "df.boxplot()"
      ],
      "metadata": {
        "id": "5jAI1FQubPec",
        "outputId": "d23de073-dcd0-4c2d-ae36-f5faae71004f",
        "colab": {
          "base_uri": "https://localhost:8080/",
          "height": 447
        }
      },
      "id": "5jAI1FQubPec",
      "execution_count": 16,
      "outputs": [
        {
          "output_type": "execute_result",
          "data": {
            "text/plain": [
              "<Axes: >"
            ]
          },
          "metadata": {},
          "execution_count": 16
        },
        {
          "output_type": "display_data",
          "data": {
            "text/plain": [
              "<Figure size 640x480 with 1 Axes>"
            ],
            "image/png": "[encoded data removed]"
          },
          "metadata": {}
        }
      ]
    },
    {
      "cell_type": "code",
      "source": [
        "sns.kdeplot(data = df, x='price_ihs',hue='Make')\n",
        "df['price_ihs'].groupby(df['Make']).describe()"
      ],
      "metadata": {
        "id": "MsY0QoZ2dwkY",
        "outputId": "de9a1011-e3ef-40fd-e188-ad6318213118",
        "colab": {
          "base_uri": "https://localhost:8080/",
          "height": 1000
        }
      },
      "id": "MsY0QoZ2dwkY",
      "execution_count": 17,
      "outputs": [
        {
          "output_type": "execute_result",
          "data": {
            "text/plain": [
              "               count       mean       std        min        25%        50%  \\\n",
              "Make                                                                         \n",
              "Chevrolet        6.0  13.613042  0.480975  13.188151  13.261539  13.445433   \n",
              "Datsun           3.0  13.269194  0.036311  13.232114  13.251449  13.270783   \n",
              "Ford            52.0  14.161427  0.210895  13.270783  14.054527  14.162640   \n",
              "Honda           73.0  14.229465  0.336972  13.356645  13.965653  14.266586   \n",
              "Hyundai        305.0  14.061658  0.398781  13.114331  13.785051  14.059241   \n",
              "Jeep             4.0  14.909738  0.105084  14.763300  14.876417  14.933413   \n",
              "Kia              8.0  14.985324  0.076877  14.822738  14.965389  14.996253   \n",
              "MG Motors       27.0  15.111364  0.061206  14.971763  15.077939  15.108593   \n",
              "Mahindra        18.0  14.592100  0.159906  14.280502  14.544955  14.598828   \n",
              "Maruti Suzuki  293.0  13.911280  0.371409  13.068963  13.619496  13.868103   \n",
              "Nissan           4.0  14.334341  0.392610  13.764217  14.230922  14.481870   \n",
              "Renault         68.0  14.044009  0.331717  13.260385  13.764211  14.068542   \n",
              "Skoda            4.0  14.020662  0.507369  13.678545  13.728452  13.816925   \n",
              "Tata            22.0  14.368186  0.600737  12.837344  14.256002  14.361876   \n",
              "Toyota          50.0  14.228654  0.360112  13.508985  13.864561  14.396608   \n",
              "Volkswagen      29.0  13.987889  0.203839  13.597355  13.896168  14.009431   \n",
              "\n",
              "                     75%        max  \n",
              "Make                                 \n",
              "Chevrolet      13.864828  14.394369  \n",
              "Datsun         13.287734  13.304685  \n",
              "Ford           14.269131  14.572571  \n",
              "Honda          14.419827  14.938490  \n",
              "Hyundai        14.330727  15.063692  \n",
              "Jeep           14.966733  15.008827  \n",
              "Kia            15.042662  15.063117  \n",
              "MG Motors      15.180581  15.190744  \n",
              "Mahindra       14.654396  14.890513  \n",
              "Maruti Suzuki  14.239470  14.659661  \n",
              "Nissan         14.585290  14.609408  \n",
              "Renault        14.286754  14.660520  \n",
              "Skoda          14.109134  14.770252  \n",
              "Tata           14.759349  15.187706  \n",
              "Toyota         14.531374  14.596669  \n",
              "Volkswagen     14.150553  14.272935  "
            ],
            "text/html": [
              "\n",
              "  <div id=\"df-9219a876-30d5-4b59-a902-b93cb1dc6f00\" class=\"colab-df-container\">\n",
              "    <div>\n",
              "<style scoped>\n",
              "    .dataframe tbody tr th:only-of-type {\n",
              "        vertical-align: middle;\n",
              "    }\n",
              "\n",
              "    .dataframe tbody tr th {\n",
              "        vertical-align: top;\n",
              "    }\n",
              "\n",
              "    .dataframe thead th {\n",
              "        text-align: right;\n",
              "    }\n",
              "</style>\n",
              "<table border=\"1\" class=\"dataframe\">\n",
              "  <thead>\n",
              "    <tr style=\"text-align: right;\">\n",
              "      <th></th>\n",
              "      <th>count</th>\n",
              "      <th>mean</th>\n",
              "      <th>std</th>\n",
              "      <th>min</th>\n",
              "      <th>25%</th>\n",
              "      <th>50%</th>\n",
              "      <th>75%</th>\n",
              "      <th>max</th>\n",
              "    </tr>\n",
              "    <tr>\n",
              "      <th>Make</th>\n",
              "      <th></th>\n",
              "      <th></th>\n",
              "      <th></th>\n",
              "      <th></th>\n",
              "      <th></th>\n",
              "      <th></th>\n",
              "      <th></th>\n",
              "      <th></th>\n",
              "    </tr>\n",
              "  </thead>\n",
              "  <tbody>\n",
              "    <tr>\n",
              "      <th>Chevrolet</th>\n",
              "      <td>6.0</td>\n",
              "      <td>13.613042</td>\n",
              "      <td>0.480975</td>\n",
              "      <td>13.188151</td>\n",
              "      <td>13.261539</td>\n",
              "      <td>13.445433</td>\n",
              "      <td>13.864828</td>\n",
              "      <td>14.394369</td>\n",
              "    </tr>\n",
              "    <tr>\n",
              "      <th>Datsun</th>\n",
              "      <td>3.0</td>\n",
              "      <td>13.269194</td>\n",
              "      <td>0.036311</td>\n",
              "      <td>13.232114</td>\n",
              "      <td>13.251449</td>\n",
              "      <td>13.270783</td>\n",
              "      <td>13.287734</td>\n",
              "      <td>13.304685</td>\n",
              "    </tr>\n",
              "    <tr>\n",
              "      <th>Ford</th>\n",
              "      <td>52.0</td>\n",
              "      <td>14.161427</td>\n",
              "      <td>0.210895</td>\n",
              "      <td>13.270783</td>\n",
              "      <td>14.054527</td>\n",
              "      <td>14.162640</td>\n",
              "      <td>14.269131</td>\n",
              "      <td>14.572571</td>\n",
              "    </tr>\n",
              "    <tr>\n",
              "      <th>Honda</th>\n",
              "      <td>73.0</td>\n",
              "      <td>14.229465</td>\n",
              "      <td>0.336972</td>\n",
              "      <td>13.356645</td>\n",
              "      <td>13.965653</td>\n",
              "      <td>14.266586</td>\n",
              "      <td>14.419827</td>\n",
              "      <td>14.938490</td>\n",
              "    </tr>\n",
              "    <tr>\n",
              "      <th>Hyundai</th>\n",
              "      <td>305.0</td>\n",
              "      <td>14.061658</td>\n",
              "      <td>0.398781</td>\n",
              "      <td>13.114331</td>\n",
              "      <td>13.785051</td>\n",
              "      <td>14.059241</td>\n",
              "      <td>14.330727</td>\n",
              "      <td>15.063692</td>\n",
              "    </tr>\n",
              "    <tr>\n",
              "      <th>Jeep</th>\n",
              "      <td>4.0</td>\n",
              "      <td>14.909738</td>\n",
              "      <td>0.105084</td>\n",
              "      <td>14.763300</td>\n",
              "      <td>14.876417</td>\n",
              "      <td>14.933413</td>\n",
              "      <td>14.966733</td>\n",
              "      <td>15.008827</td>\n",
              "    </tr>\n",
              "    <tr>\n",
              "      <th>Kia</th>\n",
              "      <td>8.0</td>\n",
              "      <td>14.985324</td>\n",
              "      <td>0.076877</td>\n",
              "      <td>14.822738</td>\n",
              "      <td>14.965389</td>\n",
              "      <td>14.996253</td>\n",
              "      <td>15.042662</td>\n",
              "      <td>15.063117</td>\n",
              "    </tr>\n",
              "    <tr>\n",
              "      <th>MG Motors</th>\n",
              "      <td>27.0</td>\n",
              "      <td>15.111364</td>\n",
              "      <td>0.061206</td>\n",
              "      <td>14.971763</td>\n",
              "      <td>15.077939</td>\n",
              "      <td>15.108593</td>\n",
              "      <td>15.180581</td>\n",
              "      <td>15.190744</td>\n",
              "    </tr>\n",
              "    <tr>\n",
              "      <th>Mahindra</th>\n",
              "      <td>18.0</td>\n",
              "      <td>14.592100</td>\n",
              "      <td>0.159906</td>\n",
              "      <td>14.280502</td>\n",
              "      <td>14.544955</td>\n",
              "      <td>14.598828</td>\n",
              "      <td>14.654396</td>\n",
              "      <td>14.890513</td>\n",
              "    </tr>\n",
              "    <tr>\n",
              "      <th>Maruti Suzuki</th>\n",
              "      <td>293.0</td>\n",
              "      <td>13.911280</td>\n",
              "      <td>0.371409</td>\n",
              "      <td>13.068963</td>\n",
              "      <td>13.619496</td>\n",
              "      <td>13.868103</td>\n",
              "      <td>14.239470</td>\n",
              "      <td>14.659661</td>\n",
              "    </tr>\n",
              "    <tr>\n",
              "      <th>Nissan</th>\n",
              "      <td>4.0</td>\n",
              "      <td>14.334341</td>\n",
              "      <td>0.392610</td>\n",
              "      <td>13.764217</td>\n",
              "      <td>14.230922</td>\n",
              "      <td>14.481870</td>\n",
              "      <td>14.585290</td>\n",
              "      <td>14.609408</td>\n",
              "    </tr>\n",
              "    <tr>\n",
              "      <th>Renault</th>\n",
              "      <td>68.0</td>\n",
              "      <td>14.044009</td>\n",
              "      <td>0.331717</td>\n",
              "      <td>13.260385</td>\n",
              "      <td>13.764211</td>\n",
              "      <td>14.068542</td>\n",
              "      <td>14.286754</td>\n",
              "      <td>14.660520</td>\n",
              "    </tr>\n",
              "    <tr>\n",
              "      <th>Skoda</th>\n",
              "      <td>4.0</td>\n",
              "      <td>14.020662</td>\n",
              "      <td>0.507369</td>\n",
              "      <td>13.678545</td>\n",
              "      <td>13.728452</td>\n",
              "      <td>13.816925</td>\n",
              "      <td>14.109134</td>\n",
              "      <td>14.770252</td>\n",
              "    </tr>\n",
              "    <tr>\n",
              "      <th>Tata</th>\n",
              "      <td>22.0</td>\n",
              "      <td>14.368186</td>\n",
              "      <td>0.600737</td>\n",
              "      <td>12.837344</td>\n",
              "      <td>14.256002</td>\n",
              "      <td>14.361876</td>\n",
              "      <td>14.759349</td>\n",
              "      <td>15.187706</td>\n",
              "    </tr>\n",
              "    <tr>\n",
              "      <th>Toyota</th>\n",
              "      <td>50.0</td>\n",
              "      <td>14.228654</td>\n",
              "      <td>0.360112</td>\n",
              "      <td>13.508985</td>\n",
              "      <td>13.864561</td>\n",
              "      <td>14.396608</td>\n",
              "      <td>14.531374</td>\n",
              "      <td>14.596669</td>\n",
              "    </tr>\n",
              "    <tr>\n",
              "      <th>Volkswagen</th>\n",
              "      <td>29.0</td>\n",
              "      <td>13.987889</td>\n",
              "      <td>0.203839</td>\n",
              "      <td>13.597355</td>\n",
              "      <td>13.896168</td>\n",
              "      <td>14.009431</td>\n",
              "      <td>14.150553</td>\n",
              "      <td>14.272935</td>\n",
              "    </tr>\n",
              "  </tbody>\n",
              "</table>\n",
              "</div>\n",
              "    <div class=\"colab-df-buttons\">\n",
              "\n",
              "  <div class=\"colab-df-container\">\n",
              "    <button class=\"colab-df-convert\" onclick=\"convertToInteractive('df-9219a876-30d5-4b59-a902-b93cb1dc6f00')\"\n",
              "            title=\"Convert this dataframe to an interactive table.\"\n",
              "            style=\"display:none;\">\n",
              "\n",
              "  <svg xmlns=\"http://www.w3.org/2000/svg\" height=\"24px\" viewBox=\"0 -960 960 960\">\n",
              "    <path d=\"M120-120v-720h720v720H120Zm60-500h600v-160H180v160Zm220 220h160v-160H400v160Zm0 220h160v-160H400v160ZM180-400h160v-160H180v160Zm440 0h160v-160H620v160ZM180-180h160v-160H180v160Zm440 0h160v-160H620v160Z\"/>\n",
              "  </svg>\n",
              "    </button>\n",
              "\n",
              "  <style>\n",
              "    .colab-df-container {\n",
              "      display:flex;\n",
              "      gap: 12px;\n",
              "    }\n",
              "\n",
              "    .colab-df-convert {\n",
              "      background-color: #E8F0FE;\n",
              "      border: none;\n",
              "      border-radius: 50%;\n",
              "      cursor: pointer;\n",
              "      display: none;\n",
              "      fill: #1967D2;\n",
              "      height: 32px;\n",
              "      padding: 0 0 0 0;\n",
              "      width: 32px;\n",
              "    }\n",
              "\n",
              "    .colab-df-convert:hover {\n",
              "      background-color: #E2EBFA;\n",
              "      box-shadow: 0px 1px 2px rgba(60, 64, 67, 0.3), 0px 1px 3px 1px rgba(60, 64, 67, 0.15);\n",
              "      fill: #174EA6;\n",
              "    }\n",
              "\n",
              "    .colab-df-buttons div {\n",
              "      margin-bottom: 4px;\n",
              "    }\n",
              "\n",
              "    [theme=dark] .colab-df-convert {\n",
              "      background-color: #3B4455;\n",
              "      fill: #D2E3FC;\n",
              "    }\n",
              "\n",
              "    [theme=dark] .colab-df-convert:hover {\n",
              "      background-color: #434B5C;\n",
              "      box-shadow: 0px 1px 3px 1px rgba(0, 0, 0, 0.15);\n",
              "      filter: drop-shadow(0px 1px 2px rgba(0, 0, 0, 0.3));\n",
              "      fill: #FFFFFF;\n",
              "    }\n",
              "  </style>\n",
              "\n",
              "    <script>\n",
              "      const buttonEl =\n",
              "        document.querySelector('#df-9219a876-30d5-4b59-a902-b93cb1dc6f00 button.colab-df-convert');\n",
              "      buttonEl.style.display =\n",
              "        google.colab.kernel.accessAllowed ? 'block' : 'none';\n",
              "\n",
              "      async function convertToInteractive(key) {\n",
              "        const element = document.querySelector('#df-9219a876-30d5-4b59-a902-b93cb1dc6f00');\n",
              "        const dataTable =\n",
              "          await google.colab.kernel.invokeFunction('convertToInteractive',\n",
              "                                                    [key], {});\n",
              "        if (!dataTable) return;\n",
              "\n",
              "        const docLinkHtml = 'Like what you see? Visit the ' +\n",
              "          '<a target=\"_blank\" href=https://colab.research.google.com/notebooks/data_table.ipynb>data table notebook</a>'\n",
              "          + ' to learn more about interactive tables.';\n",
              "        element.innerHTML = '';\n",
              "        dataTable['output_type'] = 'display_data';\n",
              "        await google.colab.output.renderOutput(dataTable, element);\n",
              "        const docLink = document.createElement('div');\n",
              "        docLink.innerHTML = docLinkHtml;\n",
              "        element.appendChild(docLink);\n",
              "      }\n",
              "    </script>\n",
              "  </div>\n",
              "\n",
              "\n",
              "<div id=\"df-89a86e98-7529-4820-ae96-644e16c9ffb2\">\n",
              "  <button class=\"colab-df-quickchart\" onclick=\"quickchart('df-89a86e98-7529-4820-ae96-644e16c9ffb2')\"\n",
              "            title=\"Suggest charts\"\n",
              "            style=\"display:none;\">\n",
              "\n",
              "<svg xmlns=\"http://www.w3.org/2000/svg\" height=\"24px\"viewBox=\"0 0 24 24\"\n",
              "     width=\"24px\">\n",
              "    <g>\n",
              "        <path d=\"M19 3H5c-1.1 0-2 .9-2 2v14c0 1.1.9 2 2 2h14c1.1 0 2-.9 2-2V5c0-1.1-.9-2-2-2zM9 17H7v-7h2v7zm4 0h-2V7h2v10zm4 0h-2v-4h2v4z\"/>\n",
              "    </g>\n",
              "</svg>\n",
              "  </button>\n",
              "\n",
              "<style>\n",
              "  .colab-df-quickchart {\n",
              "      --bg-color: #E8F0FE;\n",
              "      --fill-color: #1967D2;\n",
              "      --hover-bg-color: #E2EBFA;\n",
              "      --hover-fill-color: #174EA6;\n",
              "      --disabled-fill-color: #AAA;\n",
              "      --disabled-bg-color: #DDD;\n",
              "  }\n",
              "\n",
              "  [theme=dark] .colab-df-quickchart {\n",
              "      --bg-color: #3B4455;\n",
              "      --fill-color: #D2E3FC;\n",
              "      --hover-bg-color: #434B5C;\n",
              "      --hover-fill-color: #FFFFFF;\n",
              "      --disabled-bg-color: #3B4455;\n",
              "      --disabled-fill-color: #666;\n",
              "  }\n",
              "\n",
              "  .colab-df-quickchart {\n",
              "    background-color: var(--bg-color);\n",
              "    border: none;\n",
              "    border-radius: 50%;\n",
              "    cursor: pointer;\n",
              "    display: none;\n",
              "    fill: var(--fill-color);\n",
              "    height: 32px;\n",
              "    padding: 0;\n",
              "    width: 32px;\n",
              "  }\n",
              "\n",
              "  .colab-df-quickchart:hover {\n",
              "    background-color: var(--hover-bg-color);\n",
              "    box-shadow: 0 1px 2px rgba(60, 64, 67, 0.3), 0 1px 3px 1px rgba(60, 64, 67, 0.15);\n",
              "    fill: var(--button-hover-fill-color);\n",
              "  }\n",
              "\n",
              "  .colab-df-quickchart-complete:disabled,\n",
              "  .colab-df-quickchart-complete:disabled:hover {\n",
              "    background-color: var(--disabled-bg-color);\n",
              "    fill: var(--disabled-fill-color);\n",
              "    box-shadow: none;\n",
              "  }\n",
              "\n",
              "  .colab-df-spinner {\n",
              "    border: 2px solid var(--fill-color);\n",
              "    border-color: transparent;\n",
              "    border-bottom-color: var(--fill-color);\n",
              "    animation:\n",
              "      spin 1s steps(1) infinite;\n",
              "  }\n",
              "\n",
              "  @keyframes spin {\n",
              "    0% {\n",
              "      border-color: transparent;\n",
              "      border-bottom-color: var(--fill-color);\n",
              "      border-left-color: var(--fill-color);\n",
              "    }\n",
              "    20% {\n",
              "      border-color: transparent;\n",
              "      border-left-color: var(--fill-color);\n",
              "      border-top-color: var(--fill-color);\n",
              "    }\n",
              "    30% {\n",
              "      border-color: transparent;\n",
              "      border-left-color: var(--fill-color);\n",
              "      border-top-color: var(--fill-color);\n",
              "      border-right-color: var(--fill-color);\n",
              "    }\n",
              "    40% {\n",
              "      border-color: transparent;\n",
              "      border-right-color: var(--fill-color);\n",
              "      border-top-color: var(--fill-color);\n",
              "    }\n",
              "    60% {\n",
              "      border-color: transparent;\n",
              "      border-right-color: var(--fill-color);\n",
              "    }\n",
              "    80% {\n",
              "      border-color: transparent;\n",
              "      border-right-color: var(--fill-color);\n",
              "      border-bottom-color: var(--fill-color);\n",
              "    }\n",
              "    90% {\n",
              "      border-color: transparent;\n",
              "      border-bottom-color: var(--fill-color);\n",
              "    }\n",
              "  }\n",
              "</style>\n",
              "\n",
              "  <script>\n",
              "    async function quickchart(key) {\n",
              "      const quickchartButtonEl =\n",
              "        document.querySelector('#' + key + ' button');\n",
              "      quickchartButtonEl.disabled = true;  // To prevent multiple clicks.\n",
              "      quickchartButtonEl.classList.add('colab-df-spinner');\n",
              "      try {\n",
              "        const charts = await google.colab.kernel.invokeFunction(\n",
              "            'suggestCharts', [key], {});\n",
              "      } catch (error) {\n",
              "        console.error('Error during call to suggestCharts:', error);\n",
              "      }\n",
              "      quickchartButtonEl.classList.remove('colab-df-spinner');\n",
              "      quickchartButtonEl.classList.add('colab-df-quickchart-complete');\n",
              "    }\n",
              "    (() => {\n",
              "      let quickchartButtonEl =\n",
              "        document.querySelector('#df-89a86e98-7529-4820-ae96-644e16c9ffb2 button');\n",
              "      quickchartButtonEl.style.display =\n",
              "        google.colab.kernel.accessAllowed ? 'block' : 'none';\n",
              "    })();\n",
              "  </script>\n",
              "</div>\n",
              "\n",
              "    </div>\n",
              "  </div>\n"
            ],
            "application/vnd.google.colaboratory.intrinsic+json": {
              "type": "dataframe",
              "summary": "{\n  \"name\": \"df['price_ihs']\",\n  \"rows\": 16,\n  \"fields\": [\n    {\n      \"column\": \"Make\",\n      \"properties\": {\n        \"dtype\": \"string\",\n        \"num_unique_values\": 16,\n        \"samples\": [\n          \"Chevrolet\",\n          \"Datsun\",\n          \"Jeep\"\n        ],\n        \"semantic_type\": \"\",\n        \"description\": \"\"\n      }\n    },\n    {\n      \"column\": \"count\",\n      \"properties\": {\n        \"dtype\": \"number\",\n        \"std\": 96.00130207450313,\n        \"min\": 3.0,\n        \"max\": 305.0,\n        \"num_unique_values\": 14,\n        \"samples\": [\n          293.0,\n          22.0,\n          6.0\n        ],\n        \"semantic_type\": \"\",\n        \"description\": \"\"\n      }\n    },\n    {\n      \"column\": \"mean\",\n      \"properties\": {\n        \"dtype\": \"number\",\n        \"std\": 0.4861089705832956,\n        \"min\": 13.269194186031099,\n        \"max\": 15.111364394225589,\n        \"num_unique_values\": 16,\n        \"samples\": [\n          13.613042226676251,\n          13.269194186031099,\n          14.909737978558045\n        ],\n        \"semantic_type\": \"\",\n        \"description\": \"\"\n      }\n    },\n    {\n      \"column\": \"std\",\n      \"properties\": {\n        \"dtype\": \"number\",\n        \"std\": 0.1722506133078493,\n        \"min\": 0.0363114379189234,\n        \"max\": 0.6007369997975897,\n        \"num_unique_values\": 16,\n        \"samples\": [\n          0.4809747751177762,\n          0.0363114379189234,\n          0.10508385162653726\n        ],\n        \"semantic_type\": \"\",\n        \"description\": \"\"\n      }\n    },\n    {\n      \"column\": \"min\",\n      \"properties\": {\n        \"dtype\": \"number\",\n        \"std\": 0.6754831412413811,\n        \"min\": 12.837344422379104,\n        \"max\": 14.971762626078897,\n        \"num_unique_values\": 16,\n        \"samples\": [\n          13.18815111794584,\n          13.23211424136666,\n          14.763299956897951\n        ],\n        \"semantic_type\": \"\",\n        \"description\": \"\"\n      }\n    },\n    {\n      \"column\": \"25%\",\n      \"properties\": {\n        \"dtype\": \"number\",\n        \"std\": 0.5571063202134452,\n        \"min\": 13.251448811946117,\n        \"max\": 15.077939490609468,\n        \"num_unique_values\": 16,\n        \"samples\": [\n          13.26153893889014,\n          13.251448811946117,\n          14.87641712419886\n        ],\n        \"semantic_type\": \"\",\n        \"description\": \"\"\n      }\n    },\n    {\n      \"column\": \"50%\",\n      \"properties\": {\n        \"dtype\": \"number\",\n        \"std\": 0.5192155221304121,\n        \"min\": 13.270783382525575,\n        \"max\": 15.10859253736206,\n        \"num_unique_values\": 16,\n        \"samples\": [\n          13.44543309088273,\n          13.270783382525575,\n          14.933412587616228\n        ],\n        \"semantic_type\": \"\",\n        \"description\": \"\"\n      }\n    },\n    {\n      \"column\": \"75%\",\n      \"properties\": {\n        \"dtype\": \"number\",\n        \"std\": 0.47013363758959814,\n        \"min\": 13.287734158363318,\n        \"max\": 15.180581282632604,\n        \"num_unique_values\": 16,\n        \"samples\": [\n          13.864828207719082,\n          13.287734158363318,\n          14.966733441975414\n        ],\n        \"semantic_type\": \"\",\n        \"description\": \"\"\n      }\n    },\n    {\n      \"column\": \"max\",\n      \"properties\": {\n        \"dtype\": \"number\",\n        \"std\": 0.4616843346658175,\n        \"min\": 13.304684934201061,\n        \"max\": 15.190743971724803,\n        \"num_unique_values\": 16,\n        \"samples\": [\n          14.394368592122406,\n          13.304684934201061,\n          15.008826782101773\n        ],\n        \"semantic_type\": \"\",\n        \"description\": \"\"\n      }\n    }\n  ]\n}"
            }
          },
          "metadata": {},
          "execution_count": 17
        },
        {
          "output_type": "display_data",
          "data": {
            "text/plain": [
              "<Figure size 640x480 with 1 Axes>"
            ],
            "image/png": "[encoded data removed]"
          },
          "metadata": {}
        }
      ]
    },
    {
      "cell_type": "markdown",
      "source": [
        "Based off means, maximums, and other data, MG Motors are clearly the most expensive vehicles available, with Kia following. Overall, considering the price data has been calculated with arcsin, the original prices seemed to vary much in price, with values in the hundereds of thousands to millions. Based off the cars available, this data seems to be in units or currency which are not US dollars."
      ],
      "metadata": {
        "id": "TC-ERFpBgJZq"
      },
      "id": "TC-ERFpBgJZq"
    },
    {
      "cell_type": "code",
      "source": [
        "N = df.shape[0]\n",
        "df = df.sample(frac=1, random_state=100)\n",
        "training_size = int(.8*N)\n",
        "df_training = df[0:training_size]\n",
        "y_training = df_training['price_ihs']\n",
        "df_test = df[training_size:]\n",
        "y_test = df_test['price_ihs']"
      ],
      "metadata": {
        "id": "vDPf-J1yhbEd"
      },
      "id": "vDPf-J1yhbEd",
      "execution_count": 19,
      "outputs": []
    },
    {
      "cell_type": "code",
      "source": [
        "from sklearn import linear_model\n",
        "var_num = ['age','mileage_ihs','Seating_Capacity']\n",
        "X_train_n = df_training.loc[:,var_n]\n",
        "reg_n = linear_model.LinearRegression().fit(X_train_n,y_training)\n",
        "X_test_n = df_test.loc[:,var_num] # Process test covariates\n",
        "y_hat = reg_n.predict(X_test_n)\n",
        "print('Numeric only Rsq: ', reg_n.score(X_test_n,y_test)) # R2\n",
        "rmse_n = np.sqrt( np.mean( (y_test - y_hat)**2 ))\n",
        "print('Numeric only RMSE: ', rmse_n) # R2"
      ],
      "metadata": {
        "id": "CxZpcg7kkGkO",
        "outputId": "160e8ecf-9a0e-4ab5-84e8-709a15206dfb",
        "colab": {
          "base_uri": "https://localhost:8080/"
        }
      },
      "id": "CxZpcg7kkGkO",
      "execution_count": 21,
      "outputs": [
        {
          "output_type": "stream",
          "name": "stdout",
          "text": [
            "Numeric only Rsq:  0.32854269809930603\n",
            "Numeric only RMSE:  0.3583518095105134\n"
          ]
        }
      ]
    },
    {
      "cell_type": "code",
      "source": [
        "var_cat = ['Make','Body_Type','Color','Fuel_Type','Transmission','Transmission_Type']\n",
        "dummies = pd.DataFrame([])\n",
        "for var in var_cat:\n",
        "    new_dummies = pd.get_dummies( df.loc[:,var], drop_first=True, dtype=int)\n",
        "    dummies = pd.concat([dummies, new_dummies], axis=1, ignore_index=True)\n",
        "    X_train_c = dummies.iloc[0:training_size,:]\n",
        "    X_test_c = dummies.iloc[training_size:,:]\n",
        "\n",
        "reg_c = linear_model.LinearRegression().fit(X_train_c,y_training)\n",
        "y_hat_c = reg_c.predict(X_test_c)\n",
        "print('Categorical only Rsq: ', reg_c.score(X_test_c,y_test))\n",
        "rmse_c = np.sqrt( np.mean( (y_test - y_hat_c)**2 ))\n",
        "print('Categorical only RMSE: ', rmse_c) # R2"
      ],
      "metadata": {
        "id": "_GFYXdOmkyJ-",
        "outputId": "7387fbdb-4f0a-4565-d84d-10665d5e54fe",
        "colab": {
          "base_uri": "https://localhost:8080/"
        }
      },
      "id": "_GFYXdOmkyJ-",
      "execution_count": 23,
      "outputs": [
        {
          "output_type": "stream",
          "name": "stdout",
          "text": [
            "Categorical only Rsq:  0.6549099910224881\n",
            "Categorical only RMSE:  0.25690147288196635\n"
          ]
        }
      ]
    },
    {
      "cell_type": "code",
      "source": [
        "X_train_all = pd.concat([X_train_n, X_train_c],axis=1, ignore_index=True)\n",
        "X_test_all = pd.concat([X_test_n, X_test_c],axis=1, ignore_index=True)\n",
        "\n",
        "reg_all = linear_model.LinearRegression().fit(X_train_all,y_training)\n",
        "y_hat_all = reg_all.predict(X_test_all)\n",
        "print('All Rsq: ', reg_all.score(X_test_all,y_test))\n",
        "rmse_all = np.sqrt( np.mean( (y_test - y_hat_all)**2 ))\n",
        "print('All RMSE: ', rmse_all)"
      ],
      "metadata": {
        "id": "5WktpndMnFK7",
        "outputId": "1ca5d08f-3382-4350-cee4-6de85923f364",
        "colab": {
          "base_uri": "https://localhost:8080/"
        }
      },
      "id": "5WktpndMnFK7",
      "execution_count": 25,
      "outputs": [
        {
          "output_type": "stream",
          "name": "stdout",
          "text": [
            "All Rsq:  0.7941803573334585\n",
            "All RMSE:  0.1984009791803598\n"
          ]
        }
      ]
    },
    {
      "cell_type": "markdown",
      "source": [
        "The combined model outpreformed the isolated categorical and numerical models"
      ],
      "metadata": {
        "id": "RZzJM_BInRaz"
      },
      "id": "RZzJM_BInRaz"
    },
    {
      "cell_type": "code",
      "source": [
        "from sklearn.preprocessing import PolynomialFeatures\n",
        "\n",
        "for d in np.arange(1,8):\n",
        "    expander = PolynomialFeatures(degree=d,include_bias=False)\n",
        "\n",
        "    Z = expander.fit_transform(X_test_n)\n",
        "    names = expander.get_feature_names_out()\n",
        "    X_test_d = pd.DataFrame(data=Z, columns = names)\n",
        "    Z = expander.fit_transform(X_train_n)\n",
        "    names = expander.get_feature_names_out()\n",
        "    X_train_d = pd.DataFrame(data=Z, columns = names)\n",
        "    X_train_d.reset_index(drop=True, inplace=True)\n",
        "    X_train_c.reset_index(drop=True, inplace=True)\n",
        "    X_train_all = pd.concat([X_train_d, X_train_c], axis=1, ignore_index=True)\n",
        "\n",
        "    X_test_d.reset_index(drop=True, inplace=True)\n",
        "    X_test_c.reset_index(drop=True, inplace=True)\n",
        "    X_test_all = pd.concat([X_test_d, X_test_c], axis=1, ignore_index=True)\n",
        "\n",
        "    reg_all = linear_model.LinearRegression().fit(X_train_all,y_training)\n",
        "    print(d, ' Rsq: ', reg_all.score(X_test_all,y_test)) # R2\n",
        "    y_hat_all = reg_all.predict(X_test_all)\n",
        "    rmse_all = np.sqrt( np.mean( (y_test - y_hat_all)**2 ))\n",
        "    print(d, 'RMSE: ', rmse_all)"
      ],
      "metadata": {
        "id": "Ly_TN4B5n8C8",
        "outputId": "c9bd0a48-a89c-400c-f084-2994e41e62bd",
        "colab": {
          "base_uri": "https://localhost:8080/"
        }
      },
      "id": "Ly_TN4B5n8C8",
      "execution_count": 27,
      "outputs": [
        {
          "output_type": "stream",
          "name": "stdout",
          "text": [
            "1  Rsq:  0.7941803573334585\n",
            "1 RMSE:  0.1984009791803598\n",
            "2  Rsq:  0.8126928080999587\n",
            "2 RMSE:  0.1892681895043622\n",
            "3  Rsq:  0.7580711179497084\n",
            "3 RMSE:  0.2151019069538503\n",
            "4  Rsq:  -420366886695118.75\n",
            "4 RMSE:  8966328.589528847\n",
            "5  Rsq:  -1.5237721262000954\n",
            "5 RMSE:  0.6947450658061284\n",
            "6  Rsq:  -84878.46336035818\n",
            "6 RMSE:  127.40947138668518\n",
            "7  Rsq:  -6358539849.562693\n",
            "7 RMSE:  34872.18018518247\n"
          ]
        }
      ]
    },
    {
      "cell_type": "markdown",
      "source": [
        "The degree of 2 yeilds the best RSQ while the RSQ value begins to go negative at 4."
      ],
      "metadata": {
        "id": "E5t3vcCroSNt"
      },
      "id": "E5t3vcCroSNt"
    },
    {
      "cell_type": "code",
      "source": [
        "d = 2\n",
        "expander = PolynomialFeatures(degree=d,include_bias=False)\n",
        "Z = expander.fit_transform(X_test_n)\n",
        "names = expander.get_feature_names_out()\n",
        "X_test_d = pd.DataFrame(data=Z, columns = names)\n",
        "\n",
        "Z = expander.fit_transform(X_train_n)\n",
        "names = expander.get_feature_names_out()\n",
        "X_train_d = pd.DataFrame(data=Z, columns = names)\n",
        "\n",
        "X_train_d.reset_index(drop=True, inplace=True)\n",
        "X_train_c.reset_index(drop=True, inplace=True)\n",
        "X_train_all = pd.concat([X_train_d, X_train_c], axis=1)\n",
        "X_train_all.columns = X_train_all.columns.astype(str)\n",
        "\n",
        "X_test_d.reset_index(drop=True, inplace=True)\n",
        "X_test_c.reset_index(drop=True, inplace=True)\n",
        "X_test_all = pd.concat([X_test_d, X_test_c], axis=1)\n",
        "X_test_all.columns = X_test_all.columns.astype(str)\n",
        "\n",
        "reg_all = linear_model.LinearRegression().fit(X_train_all,y_training)\n",
        "y_hat_all = reg_all.predict(X_test_all)\n",
        "\n",
        "sns.scatterplot(x=y_test,y=y_hat_all)"
      ],
      "metadata": {
        "id": "P5zN7KnroR4z",
        "outputId": "97630c2f-e540-423f-d471-9e0e36bd1941",
        "colab": {
          "base_uri": "https://localhost:8080/",
          "height": 467
        }
      },
      "id": "P5zN7KnroR4z",
      "execution_count": 28,
      "outputs": [
        {
          "output_type": "execute_result",
          "data": {
            "text/plain": [
              "<Axes: xlabel='price_ihs'>"
            ]
          },
          "metadata": {},
          "execution_count": 28
        },
        {
          "output_type": "display_data",
          "data": {
            "text/plain": [
              "<Figure size 640x480 with 1 Axes>"
            ],
            "image/png": "[encoded data removed]"
          },
          "metadata": {}
        }
      ]
    },
    {
      "cell_type": "markdown",
      "source": [
        "These values roughly line up with a positive linear diagonal"
      ],
      "metadata": {
        "id": "ZnLpzmPLDv9S"
      },
      "id": "ZnLpzmPLDv9S"
    },
    {
      "cell_type": "code",
      "source": [
        "resid = y_test - y_hat_all\n",
        "sns.kdeplot(resid)"
      ],
      "metadata": {
        "id": "IvLUZLUaplV9",
        "outputId": "92481632-b69c-4f56-8e12-046a8d137423",
        "colab": {
          "base_uri": "https://localhost:8080/",
          "height": 467
        }
      },
      "id": "IvLUZLUaplV9",
      "execution_count": 29,
      "outputs": [
        {
          "output_type": "execute_result",
          "data": {
            "text/plain": [
              "<Axes: xlabel='price_ihs', ylabel='Density'>"
            ]
          },
          "metadata": {},
          "execution_count": 29
        },
        {
          "output_type": "display_data",
          "data": {
            "text/plain": [
              "<Figure size 640x480 with 1 Axes>"
            ],
            "image/png": "[encoded data removed]"
          },
          "metadata": {}
        }
      ]
    },
    {
      "cell_type": "markdown",
      "source": [
        "This kernal density plot roughly resembles a bell shape around 0. However, there does exist a double peak, which could point to the fact that there exist some unaccounted for data which has not been factored into the regression."
      ],
      "metadata": {
        "id": "kABsBk76D1yh"
      },
      "id": "kABsBk76D1yh"
    },
    {
      "cell_type": "markdown",
      "id": "7bd15c6b-4c7c-4230-a199-e03e1054ec6a",
      "metadata": {
        "id": "7bd15c6b-4c7c-4230-a199-e03e1054ec6a"
      },
      "source": [
        "**Q3.** This is a question about linear regression. The outcome is whether a defendant is held pre-trial in the Virginia justice system. We would like to understand how that outcome is predicted by characteristics of the defendant, particularly race. Let's be very careful/clear: We aren't saying anyone *should* be held without bond or asserting that people with different demographic variables *should* be more likely to be held, but instead trying to predict whether people with different characteristics *are empirically more likely* to be held without bond, given the available information. This is the first step we would take in investigating whether a system is fair, or how large the disparities are: Does it treat people with similar observable characteristics similarly, or not? We are going to look at a common question: Are Black defendants treated differently from white or Asian ones? (There are Native American defendants, but there are 11 in total, which is such a small number of observations that is difficult to clearly say anything about how this group is treated relative to the others.)\n",
        "\n",
        "The variables in the data are:\n",
        "\n",
        "  - `held_wo_bail`: Whether a defendant is held without bail before trial (Boolean logical)\n",
        "  - `race`, `sex`: Categorical demographic variables\n",
        "  - `is_poor`: Whether the defendant is classified as indigent\n",
        "  - `prior_F`, `prior_M`: The number of prior felony and misdemeanor arrests\n",
        "  - `case_type`: A categorical variable indicating a misdemeanor `M` or felony `F` or infraction `I` or special case `S`\n",
        "  - `age`: Defendant's age\n",
        "  - `bond`, `bond_NA`, `bond_type`: The amount of any bond, whether it is missing, and the type\n",
        "  - `sentence`, `sentence_NA`, `sentence_type`: The length of any sentence, whether it is missing, and the type\n",
        "\n",
        "1. Load the `pretrial_data.csv` data. Notice that there are `nan`s, but the data are relatively clean. Because there are `.nan`s among variables you won't use, you'll want to narrow down your analysis to the relevant variables before dropping or imputing missing values.\n",
        "2. Create a dummy variable indicating that the defendant is Black.\n",
        "3. Regress `held` on `Black`. What is the slope coefficient Interpret the coefficient on the Black dummy variable: How much more likely is a black person to be held without bail? What is the $R^2$ of the model?\n",
        "4. Before doing this question, please think for a few minutes about how to make the process of running the following regressions as efficient as possible, before jumping into writing code. Repeat part 2, for the following specifications, keeping track of the coefficient on the Black dummy variable each time:\n",
        "      - `held` on `Black` and `sex`\n",
        "      - `held` on `Black` and `sex` and `is_poor`\n",
        "      - `held` on `Black` and `sex` and `is_poor` and `prior_F`\n",
        "      - `held` on `Black` and `sex` and `is_poor` and `prior_F` and `case_type`\n",
        "What happens to the coefficient on the Black dummy variable as you include more regressors/features/controls in the regression? Explain your findings.\n",
        "5. Suppose we don't want to see just `Black` and `sex`, but `Black` interacted with `sex`: Are Black men and Black women treated systemically differently from the rest of the population? Implement this in a regression, and explain your findings.\n",
        "6. Imagine someone argued we should use these kinds of models to help a judge or magistrate make bail decisions (you could obviously go back and make this kind of model for the bond and sentence variables, then deploy it on new cases to predict what their bond and sentence values would be). What concerns would you have? Do you think society should be using data-driven and automated tools like that? Explain your concerns clearly."
      ]
    },
    {
      "cell_type": "markdown",
      "id": "d0bedb79-b3d9-4db3-9b30-b92c9b618cec",
      "metadata": {
        "id": "d0bedb79-b3d9-4db3-9b30-b92c9b618cec"
      },
      "source": [
        "**Q4.** This is a math question to review the derivation of the OLS estimator (but only if you are into that kind of thing!). We are going to do it slightly differently from what we did in class, though. We will use a linear predictor and minimize the Sum of Squared Errors, just as in class. But, we are going to de-mean $X$ first, creating another variable $z_i = x_i - \\bar{x}$ where\n",
        "$$\n",
        "\\bar{x} = \\dfrac{1}{N} \\sum_{i=1}^N x_i,\n",
        "$$\n",
        "so the model is $\\hat{y}_i = a + b z_i$ and the `SSE` is\n",
        "$$\n",
        "\\text{SSE}(a,b) = \\sum_{i=1}^N (y_i - a - bz_i)^2.\n",
        "$$\n",
        "\n",
        "  1. Take partial derivatives of the `SSE` with respect to $a$ and $b$. You should get\n",
        "\n",
        "\\begin{alignat*}{3}\n",
        "\\sum_{i=1}^N -2(y_i - a- bz_i) &=& 0 \\\\\n",
        "\\sum_{i=1}^N -2(y_i - a - bz_i)z_i &=& 0.\n",
        "\\end{alignat*}\n",
        "\n",
        "  2. Solve for the solutions to the above equations. Big hint: $\\bar{z} = 0$, since we subtracted the mean of $x$ from $x$ to get $z$. You should get\n",
        "\n",
        "\\begin{alignat*}{3}\n",
        "a^* &=& \\bar{y} \\\\\n",
        "b^* &=& \\dfrac{\\sum_{i=1}^N(y_i - \\bar{y})z_i}{\\sum_{i=1}^N z_i^2}.\n",
        "\\end{alignat*}\n",
        "\n",
        "  3. Substitute $z_i = x_i - \\bar{x}$ back into the above equations. You should get\n",
        "  \n",
        "\\begin{alignat*}{3}\n",
        "a^* &=& \\bar{y} \\\\\n",
        "b^* &=& \\dfrac{\\sum_{i=1}^N(y_i - \\bar{y})(x_i-\\bar{x})}{\\sum_{i=1}^N (x_i-\\bar{x})^2},\n",
        "\\end{alignat*}\n",
        "\n",
        "which can be written in terms of sample covariance and sample variance as:\n",
        "\n",
        "\\begin{alignat*}{3}\n",
        "a^* &=& \\bar{y} \\\\\n",
        "b^* &=& \\dfrac{\\text{cov}(x,y)}{\\text{var}(x)}.\n",
        "\\end{alignat*}\n",
        "\n",
        "This is typically the preferred way of expressing the OLS coefficients.\n",
        "\n",
        "4. When will $b^*$ be large or small, depending on the relationship between $x$ and $y$ and the amount of \"noise\"/variance in $x$? What does $a^*$ represent?\n",
        "5. Suppose you have measurement error in $x$ which artificially inflates its variance (e.g. bad data cleaning). What happens to the $b^*$ coefficient? How will affect your ability to predict? (This phenomenon is called **attenuation**.)"
      ]
    },
    {
      "cell_type": "markdown",
      "id": "b67478ac-ad78-4a44-9720-583c71b8da14",
      "metadata": {
        "id": "b67478ac-ad78-4a44-9720-583c71b8da14"
      },
      "source": [
        "**Q5.**\n",
        "1. Find a dataset on a topic you're interested in. Some easy options are data.gov, kaggle.com, and data.world.\n",
        "2. Clean the data and do some exploratory data analysis on key variables that interest you. Pick a particular target/outcome variable and features/predictors.\n",
        "3. Split the sample into an ~80% training set and a ~20% test set.\n",
        "4. Run a few regressions of your target/outcome variable on a variety of features/predictors. Compute the SSE on the test set.\n",
        "5. Which model performed the best, and why?\n",
        "6. What did you learn?"
      ]
    }
  ],
  "metadata": {
    "kernelspec": {
      "display_name": "Python 3 (ipykernel)",
      "language": "python",
      "name": "python3"
    },
    "language_info": {
      "codemirror_mode": {
        "name": "ipython",
        "version": 3
      },
      "file_extension": ".py",
      "mimetype": "text/x-python",
      "name": "python",
      "nbconvert_exporter": "python",
      "pygments_lexer": "ipython3",
      "version": "3.10.4"
    },
    "colab": {
      "provenance": []
    }
  },
  "nbformat": 4,
  "nbformat_minor": 5
}